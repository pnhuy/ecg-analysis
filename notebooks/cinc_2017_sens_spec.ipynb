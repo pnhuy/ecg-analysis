{
 "cells": [
  {
   "cell_type": "code",
   "execution_count": 1,
   "id": "7a3c42a5-25ea-46a0-be6a-28311dd5be6d",
   "metadata": {},
   "outputs": [],
   "source": [
    "import os\n",
    "import pandas as pd\n",
    "import matplotlib.pyplot as plt\n",
    "import numpy as np\n",
    "import pyhrv\n",
    "import scipy.io as sio\n",
    "import biosppy\n",
    "import pyhrv.tools as tools\n",
    "import matplotlib as mpl\n",
    "import seaborn as sns"
   ]
  },
  {
   "cell_type": "code",
   "execution_count": 85,
   "id": "1a11d9eb-ac20-4e0d-a120-1a9bb6405d89",
   "metadata": {},
   "outputs": [],
   "source": [
    "import numpy as np\n",
    "import pandas as pd\n",
    "from sklearn import metrics\n",
    "from imblearn import metrics as imetrics"
   ]
  },
  {
   "cell_type": "code",
   "execution_count": 101,
   "id": "af47db62-86a7-4ee3-90a1-fc6aef31a382",
   "metadata": {},
   "outputs": [],
   "source": [
    "test = pd.read_csv('/home/huypham/Projects/ecg/dataset/cinc2017/processed/y_test.csv')\n",
    "y_true = test.drop(columns=['idx']).to_numpy()\n",
    "cinc_2017_labels = ['Normal', 'AF', 'Other', 'Noisy']"
   ]
  },
  {
   "cell_type": "code",
   "execution_count": 157,
   "id": "4584bec9-53cb-4237-b0d6-50003123e887",
   "metadata": {},
   "outputs": [],
   "source": [
    "def calculate_sensitivity_specificity(y_true, y_pred):\n",
    "    supports = []\n",
    "    sensitivity = []\n",
    "    specificity = []\n",
    "    \n",
    "    for i, label in enumerate(cinc_2017_labels):\n",
    "        true = [lbl[i] for lbl in y_true]\n",
    "        pred = [lbl[i] for lbl in y_pred]\n",
    "        supports.append(sum(true))\n",
    "        sensitivity.append(imetrics.sensitivity_score(true, pred))\n",
    "        specificity.append(imetrics.specificity_score(true, pred))\n",
    "\n",
    "    sens = np.average(sensitivity, weights=supports)\n",
    "    spec = np.average(specificity, weights=supports)\n",
    "    print('Sensitivity:', sens)\n",
    "    print('Specificity:', spec)\n",
    "    return sens, spec"
   ]
  },
  {
   "cell_type": "markdown",
   "id": "3b13ad72-2166-4e26-9edb-e0432449097d",
   "metadata": {},
   "source": [
    "# 2D ResNet"
   ]
  },
  {
   "cell_type": "code",
   "execution_count": 103,
   "id": "052aa166-c695-409a-9c17-c5ece843ccd5",
   "metadata": {},
   "outputs": [],
   "source": [
    "y_pred = np.load('/home/huypham/Projects/ecg/tmp/logs_20230120/logs_cinc2017/poincare/resnet50/lightning_logs/version_0/test.npz')['arr_0']"
   ]
  },
  {
   "cell_type": "code",
   "execution_count": 158,
   "id": "529afab5-573a-4966-990a-3168d2e69548",
   "metadata": {},
   "outputs": [
    {
     "name": "stdout",
     "output_type": "stream",
     "text": [
      "Sensitivity: 0.6412661195779601\n",
      "Specificity: 0.7903513624410549\n"
     ]
    },
    {
     "data": {
      "text/plain": [
       "(0.6412661195779601, 0.7903513624410549)"
      ]
     },
     "execution_count": 158,
     "metadata": {},
     "output_type": "execute_result"
    }
   ],
   "source": [
    "calculate_sensitivity_specificity(y_true, y_pred>0.5)"
   ]
  },
  {
   "cell_type": "code",
   "execution_count": 142,
   "id": "1f661ddc-9b68-4e16-824d-b271460775ba",
   "metadata": {},
   "outputs": [
    {
     "name": "stdout",
     "output_type": "stream",
     "text": [
      "              precision    recall  f1-score   support\n",
      "\n",
      "           0       0.81      0.89      0.85      1044\n",
      "           1       0.69      0.55      0.61       140\n",
      "           2       0.81      0.18      0.29       473\n",
      "           3       0.00      0.00      0.00        49\n",
      "\n",
      "   micro avg       0.80      0.64      0.71      1706\n",
      "   macro avg       0.58      0.41      0.44      1706\n",
      "weighted avg       0.78      0.64      0.65      1706\n",
      " samples avg       0.64      0.64      0.64      1706\n",
      "\n"
     ]
    },
    {
     "name": "stderr",
     "output_type": "stream",
     "text": [
      "/home/huypham/miniconda3/envs/ecg/lib/python3.10/site-packages/sklearn/metrics/_classification.py:1318: UndefinedMetricWarning: Precision and F-score are ill-defined and being set to 0.0 in labels with no predicted samples. Use `zero_division` parameter to control this behavior.\n",
      "  _warn_prf(average, modifier, msg_start, len(result))\n",
      "/home/huypham/miniconda3/envs/ecg/lib/python3.10/site-packages/sklearn/metrics/_classification.py:1318: UndefinedMetricWarning: Precision and F-score are ill-defined and being set to 0.0 in samples with no predicted labels. Use `zero_division` parameter to control this behavior.\n",
      "  _warn_prf(average, modifier, msg_start, len(result))\n"
     ]
    }
   ],
   "source": [
    "print(metrics.classification_report(y_true, y_pred>0.5))"
   ]
  },
  {
   "cell_type": "markdown",
   "id": "bff24925-53e5-4a99-b1f9-80f93cc9b5ce",
   "metadata": {},
   "source": [
    "# 2D DenseNet"
   ]
  },
  {
   "cell_type": "code",
   "execution_count": 159,
   "id": "e51ebeac-c70d-4215-bfc8-d80403ba03a3",
   "metadata": {},
   "outputs": [],
   "source": [
    "y_pred = np.load('/home/huypham/Projects/ecg/tmp/logs_20230120/logs_cinc2017/poincare/densenet121/lightning_logs/version_0/test.npz')['arr_0']"
   ]
  },
  {
   "cell_type": "code",
   "execution_count": 161,
   "id": "cccb0977-d68a-4b5d-9766-62625b593834",
   "metadata": {},
   "outputs": [
    {
     "name": "stdout",
     "output_type": "stream",
     "text": [
      "Sensitivity: 0.7327080890973037\n",
      "Specificity: 0.7970703544347656\n"
     ]
    },
    {
     "data": {
      "text/plain": [
       "(0.7327080890973037, 0.7970703544347656)"
      ]
     },
     "execution_count": 161,
     "metadata": {},
     "output_type": "execute_result"
    }
   ],
   "source": [
    "calculate_sensitivity_specificity(y_true, y_pred>0.5)"
   ]
  },
  {
   "cell_type": "code",
   "execution_count": 160,
   "id": "7bf528ca-6a41-4468-a9c4-4e75bf1a5213",
   "metadata": {},
   "outputs": [
    {
     "name": "stdout",
     "output_type": "stream",
     "text": [
      "              precision    recall  f1-score   support\n",
      "\n",
      "      Normal       0.83      0.92      0.87      1044\n",
      "          AF       0.84      0.51      0.63       140\n",
      "       Other       0.74      0.46      0.56       473\n",
      "       Noisy       0.00      0.00      0.00        49\n",
      "\n",
      "   micro avg       0.81      0.73      0.77      1706\n",
      "   macro avg       0.60      0.47      0.52      1706\n",
      "weighted avg       0.78      0.73      0.74      1706\n",
      " samples avg       0.73      0.73      0.73      1706\n",
      "\n"
     ]
    },
    {
     "name": "stderr",
     "output_type": "stream",
     "text": [
      "/home/huypham/miniconda3/envs/ecg/lib/python3.10/site-packages/sklearn/metrics/_classification.py:1318: UndefinedMetricWarning: Precision and F-score are ill-defined and being set to 0.0 in labels with no predicted samples. Use `zero_division` parameter to control this behavior.\n",
      "  _warn_prf(average, modifier, msg_start, len(result))\n",
      "/home/huypham/miniconda3/envs/ecg/lib/python3.10/site-packages/sklearn/metrics/_classification.py:1318: UndefinedMetricWarning: Precision and F-score are ill-defined and being set to 0.0 in samples with no predicted labels. Use `zero_division` parameter to control this behavior.\n",
      "  _warn_prf(average, modifier, msg_start, len(result))\n"
     ]
    }
   ],
   "source": [
    "scores = metrics.classification_report(y_pred=y_pred>0.5, y_true=y_true, target_names=cinc_2017_labels)\n",
    "print(scores)"
   ]
  },
  {
   "cell_type": "markdown",
   "id": "8a1d94ea-7358-42e2-b629-a72754bdcac3",
   "metadata": {},
   "source": [
    "# 1D CNN"
   ]
  },
  {
   "cell_type": "code",
   "execution_count": 163,
   "id": "198dcc46-1597-4ca8-aa62-24da59f2fcfc",
   "metadata": {},
   "outputs": [],
   "source": [
    "y_pred = np.load('/home/huypham/Projects/ecg/tmp/logs_20230120/logs_cinc2017/cnn1d/lightning_logs/version_0/test.npz')['arr_0']"
   ]
  },
  {
   "cell_type": "code",
   "execution_count": 164,
   "id": "670dc3c3-d886-4f69-8f88-3a444d8b5222",
   "metadata": {},
   "outputs": [
    {
     "name": "stdout",
     "output_type": "stream",
     "text": [
      "Sensitivity: 0.8264947245017585\n",
      "Specificity: 0.8616892884387697\n"
     ]
    },
    {
     "data": {
      "text/plain": [
       "(0.8264947245017585, 0.8616892884387697)"
      ]
     },
     "execution_count": 164,
     "metadata": {},
     "output_type": "execute_result"
    }
   ],
   "source": [
    "calculate_sensitivity_specificity(y_true, y_pred>0.5)"
   ]
  },
  {
   "cell_type": "code",
   "execution_count": 165,
   "id": "dc286755-5dd8-429b-be62-4c117fc9bb38",
   "metadata": {},
   "outputs": [
    {
     "name": "stdout",
     "output_type": "stream",
     "text": [
      "              precision    recall  f1-score   support\n",
      "\n",
      "      Normal       0.88      0.95      0.91      1044\n",
      "          AF       0.78      0.77      0.77       140\n",
      "       Other       0.86      0.62      0.72       473\n",
      "       Noisy       0.67      0.41      0.51        49\n",
      "\n",
      "   micro avg       0.86      0.83      0.84      1706\n",
      "   macro avg       0.80      0.69      0.73      1706\n",
      "weighted avg       0.86      0.83      0.84      1706\n",
      " samples avg       0.83      0.83      0.83      1706\n",
      "\n"
     ]
    },
    {
     "name": "stderr",
     "output_type": "stream",
     "text": [
      "/home/huypham/miniconda3/envs/ecg/lib/python3.10/site-packages/sklearn/metrics/_classification.py:1318: UndefinedMetricWarning: Precision and F-score are ill-defined and being set to 0.0 in samples with no predicted labels. Use `zero_division` parameter to control this behavior.\n",
      "  _warn_prf(average, modifier, msg_start, len(result))\n"
     ]
    }
   ],
   "source": [
    "scores = metrics.classification_report(y_pred=y_pred>0.5, y_true=y_true, target_names=cinc_2017_labels)\n",
    "print(scores)"
   ]
  },
  {
   "cell_type": "markdown",
   "id": "fe79de6a-9aa2-4f59-9e9f-be659811ef99",
   "metadata": {},
   "source": [
    "# 1D Resnet"
   ]
  },
  {
   "cell_type": "code",
   "execution_count": 166,
   "id": "c162173f-4ccb-4ae1-a5b5-ad2f76638505",
   "metadata": {},
   "outputs": [],
   "source": [
    "y_pred = np.load('/home/huypham/Projects/ecg/tmp/logs_20230120/logs_cinc2017/resnet1d/lightning_logs/version_0/test.npz')['arr_0']"
   ]
  },
  {
   "cell_type": "code",
   "execution_count": 167,
   "id": "6e4fa3f1-eeab-4698-ae17-2e090976c970",
   "metadata": {},
   "outputs": [
    {
     "name": "stdout",
     "output_type": "stream",
     "text": [
      "Sensitivity: 0.8528722157092614\n",
      "Specificity: 0.8587981591692065\n"
     ]
    },
    {
     "data": {
      "text/plain": [
       "(0.8528722157092614, 0.8587981591692065)"
      ]
     },
     "execution_count": 167,
     "metadata": {},
     "output_type": "execute_result"
    }
   ],
   "source": [
    "calculate_sensitivity_specificity(y_true, y_pred>0.5)"
   ]
  },
  {
   "cell_type": "code",
   "execution_count": 168,
   "id": "b79a1208-1b31-4f9e-9a5d-7f8f5a1892ff",
   "metadata": {},
   "outputs": [
    {
     "name": "stdout",
     "output_type": "stream",
     "text": [
      "              precision    recall  f1-score   support\n",
      "\n",
      "      Normal       0.88      0.94      0.91      1044\n",
      "          AF       0.80      0.87      0.83       140\n",
      "       Other       0.83      0.69      0.75       473\n",
      "       Noisy       0.51      0.51      0.51        49\n",
      "\n",
      "   micro avg       0.85      0.85      0.85      1706\n",
      "   macro avg       0.75      0.75      0.75      1706\n",
      "weighted avg       0.85      0.85      0.85      1706\n",
      " samples avg       0.83      0.85      0.84      1706\n",
      "\n"
     ]
    },
    {
     "name": "stderr",
     "output_type": "stream",
     "text": [
      "/home/huypham/miniconda3/envs/ecg/lib/python3.10/site-packages/sklearn/metrics/_classification.py:1318: UndefinedMetricWarning: Precision and F-score are ill-defined and being set to 0.0 in samples with no predicted labels. Use `zero_division` parameter to control this behavior.\n",
      "  _warn_prf(average, modifier, msg_start, len(result))\n"
     ]
    }
   ],
   "source": [
    "scores = metrics.classification_report(y_pred=y_pred>0.5, y_true=y_true, target_names=cinc_2017_labels)\n",
    "print(scores)"
   ]
  },
  {
   "cell_type": "markdown",
   "id": "7db55263-db4f-46f6-8606-e44dddbce6cf",
   "metadata": {},
   "source": [
    "# Ruhi"
   ]
  },
  {
   "cell_type": "code",
   "execution_count": 183,
   "id": "27960bb5-93b3-4322-a2b5-b91b84ef2a6c",
   "metadata": {},
   "outputs": [],
   "source": [
    "y_pred = np.load('/home/huypham/Projects/ecg/tmp/cinc2017_ruhi/test_probs.npy')"
   ]
  },
  {
   "cell_type": "code",
   "execution_count": null,
   "id": "ea67d9b1-e647-4328-9262-8a256cc530f3",
   "metadata": {},
   "outputs": [],
   "source": [
    "calculate_sensitivity_specificity(y_true, y_pred>0.5)"
   ]
  },
  {
   "cell_type": "code",
   "execution_count": null,
   "id": "6d973dfe-19b1-4c2a-96df-59ecfb941f43",
   "metadata": {},
   "outputs": [],
   "source": [
    "scores = metrics.classification_report(y_pred=y_pred>0.5, y_true=y_true, target_names=cinc_2017_labels)\n",
    "print(scores)"
   ]
  },
  {
   "cell_type": "markdown",
   "id": "d18aa340-5a99-4528-8232-1985c67c2b7b",
   "metadata": {},
   "source": [
    "# XGBoost"
   ]
  },
  {
   "cell_type": "code",
   "execution_count": 180,
   "id": "77a1a035-6a0f-447e-a24f-e6a09fcc7fe2",
   "metadata": {},
   "outputs": [],
   "source": [
    "y_pred = np.load('/home/huypham/Projects/ecg/logs_with_eco2ai/logs_cinc2017/tabular/test_prob.npz')['arr_0']"
   ]
  },
  {
   "cell_type": "code",
   "execution_count": 181,
   "id": "057c42ca-31b1-4532-b10c-65b0fe411be3",
   "metadata": {},
   "outputs": [
    {
     "name": "stdout",
     "output_type": "stream",
     "text": [
      "Sensitivity: 0.8212192262602579\n",
      "Specificity: 0.47876663789318286\n"
     ]
    },
    {
     "data": {
      "text/plain": [
       "(0.8212192262602579, 0.47876663789318286)"
      ]
     },
     "execution_count": 181,
     "metadata": {},
     "output_type": "execute_result"
    }
   ],
   "source": [
    "calculate_sensitivity_specificity(y_true, y_pred>0.5)"
   ]
  },
  {
   "cell_type": "code",
   "execution_count": 182,
   "id": "45e31102-50aa-469c-afb5-b160ccfe257a",
   "metadata": {},
   "outputs": [
    {
     "name": "stdout",
     "output_type": "stream",
     "text": [
      "              precision    recall  f1-score   support\n",
      "\n",
      "      Normal       0.68      0.96      0.80      1044\n",
      "          AF       0.49      0.38      0.43       140\n",
      "       Other       0.45      0.66      0.53       473\n",
      "       Noisy       0.51      0.61      0.56        49\n",
      "\n",
      "   micro avg       0.60      0.82      0.69      1706\n",
      "   macro avg       0.53      0.65      0.58      1706\n",
      "weighted avg       0.60      0.82      0.69      1706\n",
      " samples avg       0.65      0.82      0.71      1706\n",
      "\n"
     ]
    },
    {
     "name": "stderr",
     "output_type": "stream",
     "text": [
      "/home/huypham/miniconda3/envs/ecg/lib/python3.10/site-packages/sklearn/metrics/_classification.py:1318: UndefinedMetricWarning: Precision and F-score are ill-defined and being set to 0.0 in samples with no predicted labels. Use `zero_division` parameter to control this behavior.\n",
      "  _warn_prf(average, modifier, msg_start, len(result))\n"
     ]
    }
   ],
   "source": [
    "scores = metrics.classification_report(y_pred=y_pred>0.5, y_true=y_true, target_names=cinc_2017_labels)\n",
    "print(scores)"
   ]
  },
  {
   "cell_type": "code",
   "execution_count": null,
   "id": "0821b496-2272-4fa6-9f59-be9744a64461",
   "metadata": {},
   "outputs": [],
   "source": []
  }
 ],
 "metadata": {
  "kernelspec": {
   "display_name": "ecg",
   "language": "python",
   "name": "ecg"
  },
  "language_info": {
   "codemirror_mode": {
    "name": "ipython",
    "version": 3
   },
   "file_extension": ".py",
   "mimetype": "text/x-python",
   "name": "python",
   "nbconvert_exporter": "python",
   "pygments_lexer": "ipython3",
   "version": "3.10.8"
  }
 },
 "nbformat": 4,
 "nbformat_minor": 5
}
