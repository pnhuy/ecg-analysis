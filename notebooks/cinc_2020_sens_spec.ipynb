{
 "cells": [
  {
   "cell_type": "code",
   "execution_count": 1,
   "id": "7a3c42a5-25ea-46a0-be6a-28311dd5be6d",
   "metadata": {},
   "outputs": [],
   "source": [
    "import os\n",
    "import pandas as pd\n",
    "import matplotlib.pyplot as plt\n",
    "import numpy as np\n",
    "import pyhrv\n",
    "import scipy.io as sio\n",
    "import biosppy\n",
    "import pyhrv.tools as tools\n",
    "import matplotlib as mpl\n",
    "import seaborn as sns"
   ]
  },
  {
   "cell_type": "code",
   "execution_count": 2,
   "id": "1a11d9eb-ac20-4e0d-a120-1a9bb6405d89",
   "metadata": {},
   "outputs": [],
   "source": [
    "import numpy as np\n",
    "import pandas as pd\n",
    "from sklearn import metrics\n",
    "from imblearn import metrics as imetrics"
   ]
  },
  {
   "cell_type": "code",
   "execution_count": 3,
   "id": "af47db62-86a7-4ee3-90a1-fc6aef31a382",
   "metadata": {},
   "outputs": [],
   "source": [
    "test = pd.read_csv('/home/huypham/Projects/ecg/dataset/cinc2020/processed/y_test.csv')\n",
    "y_true = test.drop(columns=['idx']).to_numpy()\n",
    "cinc_2020_labels = test.drop(columns=['idx']).columns.tolist()"
   ]
  },
  {
   "cell_type": "code",
   "execution_count": 40,
   "id": "4584bec9-53cb-4237-b0d6-50003123e887",
   "metadata": {},
   "outputs": [],
   "source": [
    "def calculate_sensitivity_specificity(y_true, y_pred):\n",
    "    supports = []\n",
    "    sensitivity = []\n",
    "    specificity = []\n",
    "    \n",
    "    for i, label in enumerate(range(y_true.shape[1])):\n",
    "        true = [lbl[i] for lbl in y_true]\n",
    "        pred = [lbl[i] for lbl in y_pred]\n",
    "        supports.append(sum(true))\n",
    "        sensitivity.append(imetrics.sensitivity_score(true, pred))\n",
    "        specificity.append(imetrics.specificity_score(true, pred))\n",
    "\n",
    "    sens = np.average(sensitivity, weights=supports)\n",
    "    spec = np.average(specificity, weights=supports)\n",
    "    print('Sensitivity:', sens)\n",
    "    print('Specificity:', spec)\n",
    "    return sens, spec"
   ]
  },
  {
   "cell_type": "markdown",
   "id": "3b13ad72-2166-4e26-9edb-e0432449097d",
   "metadata": {},
   "source": [
    "# 2D ResNet"
   ]
  },
  {
   "cell_type": "code",
   "execution_count": 8,
   "id": "052aa166-c695-409a-9c17-c5ece843ccd5",
   "metadata": {},
   "outputs": [],
   "source": [
    "y_pred = np.load('/home/huypham/Projects/ecg/tmp/logs_20230120/logs_cinc2020/poincare/resnet50/lightning_logs/version_0/test.npz')['arr_0']"
   ]
  },
  {
   "cell_type": "code",
   "execution_count": 9,
   "id": "529afab5-573a-4966-990a-3168d2e69548",
   "metadata": {},
   "outputs": [
    {
     "name": "stdout",
     "output_type": "stream",
     "text": [
      "Sensitivity: 0.3478394492593276\n",
      "Specificity: 0.8335242862024438\n"
     ]
    },
    {
     "data": {
      "text/plain": [
       "(0.3478394492593276, 0.8335242862024438)"
      ]
     },
     "execution_count": 9,
     "metadata": {},
     "output_type": "execute_result"
    }
   ],
   "source": [
    "calculate_sensitivity_specificity(y_true, y_pred>0.5)"
   ]
  },
  {
   "cell_type": "code",
   "execution_count": 11,
   "id": "1f661ddc-9b68-4e16-824d-b271460775ba",
   "metadata": {},
   "outputs": [
    {
     "name": "stdout",
     "output_type": "stream",
     "text": [
      "0.44703373094241255\n"
     ]
    }
   ],
   "source": [
    "print(metrics.f1_score(y_true, y_pred>0.5, average='micro'))"
   ]
  },
  {
   "cell_type": "markdown",
   "id": "bff24925-53e5-4a99-b1f9-80f93cc9b5ce",
   "metadata": {},
   "source": [
    "# 2D DenseNet"
   ]
  },
  {
   "cell_type": "code",
   "execution_count": 12,
   "id": "e51ebeac-c70d-4215-bfc8-d80403ba03a3",
   "metadata": {},
   "outputs": [],
   "source": [
    "y_pred = np.load('/home/huypham/Projects/ecg/tmp/logs_20230120/logs_cinc2020/poincare/densenet121/lightning_logs/version_0/test.npz')['arr_0']"
   ]
  },
  {
   "cell_type": "code",
   "execution_count": 13,
   "id": "cccb0977-d68a-4b5d-9766-62625b593834",
   "metadata": {},
   "outputs": [
    {
     "name": "stdout",
     "output_type": "stream",
     "text": [
      "Sensitivity: 0.4061097793349315\n",
      "Specificity: 0.803664989975595\n"
     ]
    },
    {
     "data": {
      "text/plain": [
       "(0.4061097793349315, 0.803664989975595)"
      ]
     },
     "execution_count": 13,
     "metadata": {},
     "output_type": "execute_result"
    }
   ],
   "source": [
    "calculate_sensitivity_specificity(y_true, y_pred>0.5)"
   ]
  },
  {
   "cell_type": "code",
   "execution_count": 14,
   "id": "7bf528ca-6a41-4468-a9c4-4e75bf1a5213",
   "metadata": {},
   "outputs": [
    {
     "name": "stdout",
     "output_type": "stream",
     "text": [
      "0.49762747608646535\n"
     ]
    }
   ],
   "source": [
    "print(metrics.f1_score(y_true, y_pred>0.5, average='micro'))"
   ]
  },
  {
   "cell_type": "markdown",
   "id": "8a1d94ea-7358-42e2-b629-a72754bdcac3",
   "metadata": {},
   "source": [
    "# 1D CNN"
   ]
  },
  {
   "cell_type": "code",
   "execution_count": 15,
   "id": "198dcc46-1597-4ca8-aa62-24da59f2fcfc",
   "metadata": {},
   "outputs": [],
   "source": [
    "y_pred = np.load('/home/huypham/Projects/ecg/tmp/logs_20230120/logs_cinc2020/cnn1d/lightning_logs/version_0/test.npz')['arr_0']"
   ]
  },
  {
   "cell_type": "code",
   "execution_count": 16,
   "id": "670dc3c3-d886-4f69-8f88-3a444d8b5222",
   "metadata": {},
   "outputs": [
    {
     "name": "stdout",
     "output_type": "stream",
     "text": [
      "Sensitivity: 0.6345811051693404\n",
      "Specificity: 0.8770812440015489\n"
     ]
    },
    {
     "data": {
      "text/plain": [
       "(0.6345811051693404, 0.8770812440015489)"
      ]
     },
     "execution_count": 16,
     "metadata": {},
     "output_type": "execute_result"
    }
   ],
   "source": [
    "calculate_sensitivity_specificity(y_true, y_pred>0.5)"
   ]
  },
  {
   "cell_type": "code",
   "execution_count": 17,
   "id": "dc286755-5dd8-429b-be62-4c117fc9bb38",
   "metadata": {},
   "outputs": [
    {
     "name": "stdout",
     "output_type": "stream",
     "text": [
      "0.6896689936203614\n"
     ]
    }
   ],
   "source": [
    "print(metrics.f1_score(y_true, y_pred>0.5, average='micro'))"
   ]
  },
  {
   "cell_type": "markdown",
   "id": "fe79de6a-9aa2-4f59-9e9f-be659811ef99",
   "metadata": {},
   "source": [
    "# 1D Resnet"
   ]
  },
  {
   "cell_type": "code",
   "execution_count": 18,
   "id": "c162173f-4ccb-4ae1-a5b5-ad2f76638505",
   "metadata": {},
   "outputs": [],
   "source": [
    "y_pred = np.load('/home/huypham/Projects/ecg/tmp/logs_20230120/logs_cinc2020/resnet1d/lightning_logs/version_0/test.npz')['arr_0']"
   ]
  },
  {
   "cell_type": "code",
   "execution_count": 19,
   "id": "6e4fa3f1-eeab-4698-ae17-2e090976c970",
   "metadata": {},
   "outputs": [
    {
     "name": "stdout",
     "output_type": "stream",
     "text": [
      "Sensitivity: 0.6454606921138362\n",
      "Specificity: 0.9216048384693913\n"
     ]
    },
    {
     "data": {
      "text/plain": [
       "(0.6454606921138362, 0.9216048384693913)"
      ]
     },
     "execution_count": 19,
     "metadata": {},
     "output_type": "execute_result"
    }
   ],
   "source": [
    "calculate_sensitivity_specificity(y_true, y_pred>0.5)"
   ]
  },
  {
   "cell_type": "code",
   "execution_count": 22,
   "id": "b79a1208-1b31-4f9e-9a5d-7f8f5a1892ff",
   "metadata": {},
   "outputs": [
    {
     "name": "stdout",
     "output_type": "stream",
     "text": [
      "0.7076622413909294\n"
     ]
    }
   ],
   "source": [
    "print(metrics.f1_score(y_true, y_pred>0.5, average='micro'))"
   ]
  },
  {
   "cell_type": "markdown",
   "id": "6fc5c3db-3195-44df-8aef-4e89fe2afa42",
   "metadata": {},
   "source": [
    "# PNRA"
   ]
  },
  {
   "cell_type": "code",
   "execution_count": 60,
   "id": "72fdb0a7-b6b8-4752-8edf-42ac102d03ee",
   "metadata": {},
   "outputs": [],
   "source": [
    "import joblib\n",
    "probs, lbls = joblib.load('/home/huypham/Projects/ecg/tmp/physionet2020-submission/test_prediction.jl')\n",
    "thrs = np.loadtxt(\"/home/huypham/Projects/ecg/tmp/physionet2020-submission/output/saved_models/ctn/fold_test/thrs.txt\")\n",
    "preds = (probs > thrs).astype(int)"
   ]
  },
  {
   "cell_type": "code",
   "execution_count": 61,
   "id": "b7b37c90-8124-4677-90b9-d521830a4e8e",
   "metadata": {},
   "outputs": [
    {
     "name": "stdout",
     "output_type": "stream",
     "text": [
      "Sensitivity: 0.7960443962279896\n",
      "Specificity: 0.8970402921327175\n"
     ]
    },
    {
     "data": {
      "text/plain": [
       "(0.7960443962279896, 0.8970402921327175)"
      ]
     },
     "execution_count": 61,
     "metadata": {},
     "output_type": "execute_result"
    }
   ],
   "source": [
    "calculate_sensitivity_specificity(lbls, preds)"
   ]
  },
  {
   "cell_type": "code",
   "execution_count": 62,
   "id": "fc552e99-7a09-4ae1-9fea-7849d67399af",
   "metadata": {},
   "outputs": [
    {
     "data": {
      "text/plain": [
       "0.5607218434046556"
      ]
     },
     "execution_count": 62,
     "metadata": {},
     "output_type": "execute_result"
    }
   ],
   "source": [
    "metrics.precision_score(lbls, preds, average='micro')"
   ]
  },
  {
   "cell_type": "code",
   "execution_count": 63,
   "id": "432850d2-9214-4c78-95e6-886d5cabe831",
   "metadata": {},
   "outputs": [
    {
     "data": {
      "text/plain": [
       "0.6579755130194861"
      ]
     },
     "execution_count": 63,
     "metadata": {},
     "output_type": "execute_result"
    }
   ],
   "source": [
    "metrics.f1_score(lbls, preds, average='micro')"
   ]
  },
  {
   "cell_type": "markdown",
   "id": "d18aa340-5a99-4528-8232-1985c67c2b7b",
   "metadata": {},
   "source": [
    "# XGBoost"
   ]
  },
  {
   "cell_type": "code",
   "execution_count": 24,
   "id": "77a1a035-6a0f-447e-a24f-e6a09fcc7fe2",
   "metadata": {},
   "outputs": [],
   "source": [
    "y_pred = np.load('/home/huypham/Projects/ecg/logs_with_eco2ai/logs_cinc2020/tabular/test_prob.npz')['arr_0']"
   ]
  },
  {
   "cell_type": "code",
   "execution_count": 26,
   "id": "057c42ca-31b1-4532-b10c-65b0fe411be3",
   "metadata": {},
   "outputs": [
    {
     "name": "stdout",
     "output_type": "stream",
     "text": [
      "Sensitivity: 0.6458294916712767\n",
      "Specificity: 0.7845797298896674\n"
     ]
    },
    {
     "data": {
      "text/plain": [
       "(0.6458294916712767, 0.7845797298896674)"
      ]
     },
     "execution_count": 26,
     "metadata": {},
     "output_type": "execute_result"
    }
   ],
   "source": [
    "calculate_sensitivity_specificity(y_true, y_pred>0.5)"
   ]
  },
  {
   "cell_type": "code",
   "execution_count": 27,
   "id": "45e31102-50aa-469c-afb5-b160ccfe257a",
   "metadata": {},
   "outputs": [
    {
     "name": "stdout",
     "output_type": "stream",
     "text": [
      "0.651455498031435\n"
     ]
    }
   ],
   "source": [
    "print(metrics.f1_score(y_true, y_pred>0.5, average='micro'))"
   ]
  },
  {
   "cell_type": "code",
   "execution_count": null,
   "id": "0821b496-2272-4fa6-9f59-be9744a64461",
   "metadata": {},
   "outputs": [],
   "source": []
  }
 ],
 "metadata": {
  "kernelspec": {
   "display_name": "ecg",
   "language": "python",
   "name": "ecg"
  },
  "language_info": {
   "codemirror_mode": {
    "name": "ipython",
    "version": 3
   },
   "file_extension": ".py",
   "mimetype": "text/x-python",
   "name": "python",
   "nbconvert_exporter": "python",
   "pygments_lexer": "ipython3",
   "version": "3.10.8"
  }
 },
 "nbformat": 4,
 "nbformat_minor": 5
}
