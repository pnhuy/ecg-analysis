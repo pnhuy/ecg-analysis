{
 "cells": [
  {
   "cell_type": "code",
   "execution_count": 2,
   "metadata": {},
   "outputs": [],
   "source": [
    "import sys\n",
    "sys.path.append('..')\n",
    "\n",
    "import os\n",
    "import time\n",
    "\n",
    "os.environ['CUDA_VISIBLE_DEVICES'] = ''"
   ]
  },
  {
   "cell_type": "code",
   "execution_count": 2,
   "metadata": {},
   "outputs": [],
   "source": [
    "dataframe = []"
   ]
  },
  {
   "attachments": {},
   "cell_type": "markdown",
   "metadata": {},
   "source": [
    "# Poincare"
   ]
  },
  {
   "attachments": {},
   "cell_type": "markdown",
   "metadata": {},
   "source": [
    "## Poincare PreProcessing"
   ]
  },
  {
   "cell_type": "code",
   "execution_count": 3,
   "metadata": {},
   "outputs": [],
   "source": [
    "from preprocess.cinc2017 import preprocess_cinc2017"
   ]
  },
  {
   "cell_type": "code",
   "execution_count": 4,
   "metadata": {},
   "outputs": [
    {
     "data": {
      "application/vnd.jupyter.widget-view+json": {
       "model_id": "1f39001fc8f54d70979478608c96ed75",
       "version_major": 2,
       "version_minor": 0
      },
      "text/plain": [
       "train:   0%|          | 0/5116 [00:00<?, ?it/s]"
      ]
     },
     "metadata": {},
     "output_type": "display_data"
    },
    {
     "data": {
      "application/vnd.jupyter.widget-view+json": {
       "model_id": "0e04eb1d30234e3f9de2e6e289934fa0",
       "version_major": 2,
       "version_minor": 0
      },
      "text/plain": [
       "val:   0%|          | 0/1706 [00:00<?, ?it/s]"
      ]
     },
     "metadata": {},
     "output_type": "display_data"
    },
    {
     "data": {
      "application/vnd.jupyter.widget-view+json": {
       "model_id": "86c9cc8bbabf4ddc8a83244b0093cc29",
       "version_major": 2,
       "version_minor": 0
      },
      "text/plain": [
       "test:   0%|          | 0/1706 [00:00<?, ?it/s]"
      ]
     },
     "metadata": {},
     "output_type": "display_data"
    },
    {
     "name": "stdout",
     "output_type": "stream",
     "text": [
      "Processing time: 287.3779900074005\n"
     ]
    }
   ],
   "source": [
    "# Poincare generation\n",
    "start = time.time()\n",
    "\n",
    "data_dir = os.path.join('/home/huypham/Projects/ecg/dataset/cinc2017/raw', 'training')\n",
    "data_label = os.path.join('/home/huypham/Projects/ecg/dataset/cinc2017/raw', 'training/REFERENCE.csv')\n",
    "output_image_dir = '/tmp/cinc2017'\n",
    "output_label = '/tmp/cinc2017/y_{}.csv'\n",
    "os.makedirs(output_image_dir, exist_ok=True)\n",
    "\n",
    "preprocess_cinc2017(data_dir, data_label, output_image_dir, output_label)\n",
    "\n",
    "stop = time.time()\n",
    "\n",
    "print('Processing time:', stop - start)"
   ]
  },
  {
   "cell_type": "code",
   "execution_count": 5,
   "metadata": {},
   "outputs": [
    {
     "name": "stdout",
     "output_type": "stream",
     "text": [
      "0.033698169559967225\n"
     ]
    }
   ],
   "source": [
    "poincare_process_time = (stop - start)/(5116 + 1706 + 1706)\n",
    "print(poincare_process_time)"
   ]
  },
  {
   "cell_type": "code",
   "execution_count": 6,
   "metadata": {},
   "outputs": [
    {
     "name": "stderr",
     "output_type": "stream",
     "text": [
      "Global seed set to 42\n",
      "Global seed set to 42\n"
     ]
    }
   ],
   "source": [
    "import pytorch_lightning as pl\n",
    "from pytorch_lightning.loggers import TensorBoardLogger\n",
    "from pytorch_lightning.callbacks import ModelCheckpoint\n",
    "\n",
    "\n",
    "from data.images.images import PtbXlDataModule\n",
    "from models.images.images import ImageClassifier"
   ]
  },
  {
   "cell_type": "code",
   "execution_count": 7,
   "metadata": {},
   "outputs": [],
   "source": [
    "class args:\n",
    "    data_path = '/home/huypham/Projects/ecg/dataset/cinc2017/'\n",
    "    batch_size = 1\n",
    "    model_barebone = 'resnet50'\n",
    "    learning_rate = 1e-5\n",
    "    max_epochs = 50\n",
    "    log_dir = '/tmp/logs'\n",
    "    resume_from_checkpoint = None\n",
    "    seed = 42"
   ]
  },
  {
   "cell_type": "code",
   "execution_count": 8,
   "metadata": {},
   "outputs": [
    {
     "name": "stderr",
     "output_type": "stream",
     "text": [
      "Global seed set to 42\n",
      "Global seed set to 42\n"
     ]
    },
    {
     "name": "stdout",
     "output_type": "stream",
     "text": [
      "Train data lenghth: 5116\n"
     ]
    }
   ],
   "source": [
    "train_dir = os.path.join(args.data_path, 'processed')\n",
    "train_label = os.path.join(args.data_path, 'processed/y_train.csv')\n",
    "val_dir = os.path.join(args.data_path, 'processed')\n",
    "val_label = os.path.join(args.data_path, 'processed/y_val.csv')\n",
    "test_dir = os.path.join(args.data_path, 'processed')\n",
    "test_label = os.path.join(args.data_path, 'processed/y_test.csv')\n",
    "\n",
    "datamodule = PtbXlDataModule(\n",
    "    train_dir=train_dir,\n",
    "    train_label=train_label,\n",
    "    val_dir=val_dir,\n",
    "    val_label=val_label,\n",
    "    test_dir=test_dir,\n",
    "    test_label=test_label,\n",
    "    batch_size=args.batch_size\n",
    ")\n",
    "\n",
    "classes = datamodule.train_dataset.labels.columns\n",
    "print('Train data lenghth:', len(datamodule.train_dataset))   "
   ]
  },
  {
   "attachments": {},
   "cell_type": "markdown",
   "metadata": {},
   "source": [
    "## ResNet50"
   ]
  },
  {
   "cell_type": "code",
   "execution_count": 9,
   "metadata": {},
   "outputs": [
    {
     "name": "stderr",
     "output_type": "stream",
     "text": [
      "Global seed set to 42\n",
      "GPU available: False, used: False\n",
      "TPU available: False, using: 0 TPU cores\n",
      "IPU available: False, using: 0 IPUs\n",
      "HPU available: False, using: 0 HPUs\n",
      "Restoring states from the checkpoint path at /home/huypham/Projects/ecg/logs_with_eco2ai/logs_cinc2017/poincare/resnet50/lightning_logs/version_0/ckpt/best-epoch=3-val_loss=0.32-val_f1=0.71.ckpt\n",
      "Loaded model weights from checkpoint at /home/huypham/Projects/ecg/logs_with_eco2ai/logs_cinc2017/poincare/resnet50/lightning_logs/version_0/ckpt/best-epoch=3-val_loss=0.32-val_f1=0.71.ckpt\n",
      "Global seed set to 42\n"
     ]
    },
    {
     "data": {
      "application/vnd.jupyter.widget-view+json": {
       "model_id": "4f26a0d68de34b03b31d7382f0b426dd",
       "version_major": 2,
       "version_minor": 0
      },
      "text/plain": [
       "Testing: 0it [00:00, ?it/s]"
      ]
     },
     "metadata": {},
     "output_type": "display_data"
    },
    {
     "name": "stdout",
     "output_type": "stream",
     "text": [
      "────────────────────────────────────────────────────────────────────────────────────────────────────────────────────────\n",
      "       Test metric             DataLoader 0\n",
      "────────────────────────────────────────────────────────────────────────────────────────────────────────────────────────\n",
      "         test_f1            0.7175572514533997\n",
      "        test_loss           0.31067538261413574\n",
      "────────────────────────────────────────────────────────────────────────────────────────────────────────────────────────\n"
     ]
    }
   ],
   "source": [
    "start = time.time()\n",
    "\n",
    "model = ImageClassifier(\n",
    "    classes=classes,\n",
    "    barebone='resnet50',\n",
    "    learning_rate=args.learning_rate,\n",
    "    loss_type='bce'\n",
    ")\n",
    "\n",
    "trainer = pl.Trainer(\n",
    "    accelerator='cpu',\n",
    "    deterministic=False,\n",
    ")\n",
    "\n",
    "trainer.test(\n",
    "    model=model,\n",
    "    datamodule=datamodule,\n",
    "    ckpt_path='/home/huypham/Projects/ecg/logs_with_eco2ai/logs_cinc2017/poincare/resnet50/lightning_logs/version_0/ckpt/best-epoch=3-val_loss=0.32-val_f1=0.71.ckpt',\n",
    ")\n",
    "\n",
    "stop = time.time()\n"
   ]
  },
  {
   "cell_type": "code",
   "execution_count": 10,
   "metadata": {},
   "outputs": [
    {
     "name": "stdout",
     "output_type": "stream",
     "text": [
      "Prediction time: 64.64745163917542\n",
      "Per image: 0.037894168604440455\n"
     ]
    }
   ],
   "source": [
    "print('Prediction time:', stop - start)\n",
    "resnet50 = (stop-start)/1706\n",
    "print('Per image:', resnet50)"
   ]
  },
  {
   "attachments": {},
   "cell_type": "markdown",
   "metadata": {},
   "source": [
    "## DenseNet121"
   ]
  },
  {
   "cell_type": "code",
   "execution_count": 11,
   "metadata": {},
   "outputs": [
    {
     "name": "stderr",
     "output_type": "stream",
     "text": [
      "Global seed set to 42\n",
      "GPU available: False, used: False\n",
      "TPU available: False, using: 0 TPU cores\n",
      "IPU available: False, using: 0 IPUs\n",
      "HPU available: False, using: 0 HPUs\n",
      "Restoring states from the checkpoint path at /home/huypham/Projects/ecg/logs_with_eco2ai/logs_cinc2017/poincare/densenet121/lightning_logs/version_0/ckpt/best-epoch=9-val_loss=0.30-val_f1=0.75.ckpt\n",
      "Loaded model weights from checkpoint at /home/huypham/Projects/ecg/logs_with_eco2ai/logs_cinc2017/poincare/densenet121/lightning_logs/version_0/ckpt/best-epoch=9-val_loss=0.30-val_f1=0.75.ckpt\n",
      "Global seed set to 42\n"
     ]
    },
    {
     "data": {
      "application/vnd.jupyter.widget-view+json": {
       "model_id": "f92adbcd8e924929a233711007d2da13",
       "version_major": 2,
       "version_minor": 0
      },
      "text/plain": [
       "Testing: 0it [00:00, ?it/s]"
      ]
     },
     "metadata": {},
     "output_type": "display_data"
    },
    {
     "name": "stdout",
     "output_type": "stream",
     "text": [
      "────────────────────────────────────────────────────────────────────────────────────────────────────────────────────────\n",
      "       Test metric             DataLoader 0\n",
      "────────────────────────────────────────────────────────────────────────────────────────────────────────────────────────\n",
      "         test_f1            0.7675208449363708\n",
      "        test_loss           0.29199057817459106\n",
      "────────────────────────────────────────────────────────────────────────────────────────────────────────────────────────\n"
     ]
    }
   ],
   "source": [
    "start = time.time()\n",
    "\n",
    "model = ImageClassifier(\n",
    "    classes=classes,\n",
    "    barebone='densenet121',\n",
    "    learning_rate=args.learning_rate,\n",
    "    loss_type='bce'\n",
    ")\n",
    "\n",
    "trainer = pl.Trainer(\n",
    "    accelerator='cpu',\n",
    "    deterministic=False,\n",
    ")\n",
    "\n",
    "trainer.test(\n",
    "    model=model,\n",
    "    datamodule=datamodule,\n",
    "    ckpt_path='/home/huypham/Projects/ecg/logs_with_eco2ai/logs_cinc2017/poincare/densenet121/lightning_logs/version_0/ckpt/best-epoch=9-val_loss=0.30-val_f1=0.75.ckpt',\n",
    ")\n",
    "\n",
    "stop = time.time()"
   ]
  },
  {
   "cell_type": "code",
   "execution_count": 12,
   "metadata": {},
   "outputs": [
    {
     "name": "stdout",
     "output_type": "stream",
     "text": [
      "Prediction time: 65.08636736869812\n",
      "Per image: 0.03815144628880312\n"
     ]
    }
   ],
   "source": [
    "print('Prediction time:', stop - start)\n",
    "densenet121 = (stop-start)/1706\n",
    "print('Per image:', densenet121)"
   ]
  },
  {
   "attachments": {},
   "cell_type": "markdown",
   "metadata": {},
   "source": [
    "# 1D CNN"
   ]
  },
  {
   "cell_type": "code",
   "execution_count": 13,
   "metadata": {},
   "outputs": [],
   "source": [
    "import pytorch_lightning as pl\n",
    "from pytorch_lightning.loggers import TensorBoardLogger\n",
    "from pytorch_lightning.callbacks import ModelCheckpoint\n",
    "\n",
    "from data.timeseries.timeseries import TimeSeriesDataModule\n",
    "from models.timeseries.cnn import Net1DLightningModule\n",
    "\n",
    "import warnings\n",
    "warnings.filterwarnings(action='ignore')"
   ]
  },
  {
   "cell_type": "code",
   "execution_count": 14,
   "metadata": {},
   "outputs": [],
   "source": [
    "class args:\n",
    "    data_path='/home/huypham/Projects/ecg/dataset/cinc2017/raw/training'\n",
    "    csv_path='/home/huypham/Projects/ecg/dataset/cinc2017/processed'\n",
    "    batch_size=1\n",
    "    learning_rate=1e-5\n",
    "    max_epochs=100\n",
    "    log_dir='./logs/cnn1d'\n",
    "    resume_from_checkpoint=None\n",
    "    seed=42"
   ]
  },
  {
   "cell_type": "code",
   "execution_count": 15,
   "metadata": {},
   "outputs": [],
   "source": [
    "def set_seed(seed=0):\n",
    "    import numpy, torch, random\n",
    "    numpy.random.seed(seed)\n",
    "    torch.random.manual_seed(seed)\n",
    "    random.seed(seed)"
   ]
  },
  {
   "cell_type": "code",
   "execution_count": 16,
   "metadata": {},
   "outputs": [
    {
     "name": "stderr",
     "output_type": "stream",
     "text": [
      "Global seed set to 42\n",
      "Global seed set to 42\n"
     ]
    },
    {
     "data": {
      "application/vnd.jupyter.widget-view+json": {
       "model_id": "a804cd0c0d994011a5bb17237c86f3d4",
       "version_major": 2,
       "version_minor": 0
      },
      "text/plain": [
       "  0%|          | 0/5116 [00:00<?, ?it/s]"
      ]
     },
     "metadata": {},
     "output_type": "display_data"
    },
    {
     "name": "stderr",
     "output_type": "stream",
     "text": [
      "Global seed set to 42\n"
     ]
    },
    {
     "data": {
      "application/vnd.jupyter.widget-view+json": {
       "model_id": "4f370beb361541e499fdbe3b1d9a0926",
       "version_major": 2,
       "version_minor": 0
      },
      "text/plain": [
       "  0%|          | 0/1706 [00:00<?, ?it/s]"
      ]
     },
     "metadata": {},
     "output_type": "display_data"
    },
    {
     "name": "stderr",
     "output_type": "stream",
     "text": [
      "Global seed set to 42\n"
     ]
    },
    {
     "data": {
      "application/vnd.jupyter.widget-view+json": {
       "model_id": "514a305e543f4a96a9693de8dcd4a0a2",
       "version_major": 2,
       "version_minor": 0
      },
      "text/plain": [
       "  0%|          | 0/1706 [00:00<?, ?it/s]"
      ]
     },
     "metadata": {},
     "output_type": "display_data"
    }
   ],
   "source": [
    "start = time.time()\n",
    "\n",
    "set_seed(args.seed)\n",
    "train_dir = args.data_path\n",
    "val_dir = train_dir\n",
    "test_dir = train_dir\n",
    "\n",
    "train_label = os.path.join(args.csv_path, 'y_train.csv') # '/home/huypham/Projects/ecg/dataset/cinc2020/processed/y_train.csv'\n",
    "val_label = os.path.join(args.csv_path, 'y_val.csv')\n",
    "test_label = os.path.join(args.csv_path, 'y_test.csv')\n",
    "\n",
    "data_module = TimeSeriesDataModule(\n",
    "    train_dir=train_dir,\n",
    "    train_label=train_label,\n",
    "    val_dir=val_dir,\n",
    "    val_label=val_label,\n",
    "    test_dir=test_dir,\n",
    "    test_label=test_label,\n",
    "    batch_size=args.batch_size\n",
    ")\n",
    "\n",
    "train_dataloader = data_module.train_dataloader()\n",
    "classes = data_module.train_dataset.classes\n",
    "class_weights = data_module.train_dataset.class_weights\n",
    "\n",
    "val_dataloader = data_module.val_dataloader()\n",
    "test_dataloader = data_module.test_dataloader()\n",
    "\n",
    "stop = time.time()"
   ]
  },
  {
   "cell_type": "code",
   "execution_count": 17,
   "metadata": {},
   "outputs": [
    {
     "name": "stdout",
     "output_type": "stream",
     "text": [
      "Processing time: 114.5883002281189\n",
      "Per image: 0.013436714379469852\n"
     ]
    }
   ],
   "source": [
    "print('Processing time:', stop - start)\n",
    "ts_processing_time = (stop-start)/(5116 + 1706 + 1706)\n",
    "print('Per image:', ts_processing_time)"
   ]
  },
  {
   "cell_type": "code",
   "execution_count": 18,
   "metadata": {},
   "outputs": [
    {
     "name": "stderr",
     "output_type": "stream",
     "text": [
      "GPU available: False, used: False\n",
      "TPU available: False, using: 0 TPU cores\n",
      "IPU available: False, using: 0 IPUs\n",
      "HPU available: False, using: 0 HPUs\n",
      "Restoring states from the checkpoint path at /home/huypham/Projects/ecg/logs_with_eco2ai/logs_cinc2017/cnn1d/lightning_logs/version_0/ckpt/best-epoch=97-val_loss=0.03-val_f1=0.83.ckpt\n",
      "Loaded model weights from checkpoint at /home/huypham/Projects/ecg/logs_with_eco2ai/logs_cinc2017/cnn1d/lightning_logs/version_0/ckpt/best-epoch=97-val_loss=0.03-val_f1=0.83.ckpt\n"
     ]
    },
    {
     "data": {
      "application/vnd.jupyter.widget-view+json": {
       "model_id": "302ffe32ab154bc2af97232d5fd9faf5",
       "version_major": 2,
       "version_minor": 0
      },
      "text/plain": [
       "Testing: 0it [00:00, ?it/s]"
      ]
     },
     "metadata": {},
     "output_type": "display_data"
    },
    {
     "name": "stdout",
     "output_type": "stream",
     "text": [
      "────────────────────────────────────────────────────────────────────────────────────────────────────────────────────────\n",
      "       Test metric             DataLoader 0\n",
      "────────────────────────────────────────────────────────────────────────────────────────────────────────────────────────\n",
      "         test_f1            0.8440586924552917\n",
      "        test_loss           0.02824728935956955\n",
      "────────────────────────────────────────────────────────────────────────────────────────────────────────────────────────\n"
     ]
    }
   ],
   "source": [
    "start = time.time()\n",
    "\n",
    "model = Net1DLightningModule(classes=classes, class_weights=class_weights)\n",
    "\n",
    "trainer = pl.Trainer(\n",
    "    accelerator='cpu'\n",
    ")\n",
    "\n",
    "trainer.test(model, dataloaders=test_dataloader, ckpt_path='/home/huypham/Projects/ecg/logs_with_eco2ai/logs_cinc2017/cnn1d/lightning_logs/version_0/ckpt/best-epoch=97-val_loss=0.03-val_f1=0.83.ckpt')\n",
    "\n",
    "stop = time.time()"
   ]
  },
  {
   "cell_type": "code",
   "execution_count": 19,
   "metadata": {},
   "outputs": [
    {
     "name": "stdout",
     "output_type": "stream",
     "text": [
      "Prediction time: 46.99606394767761\n",
      "Per image: 0.027547516968158037\n"
     ]
    }
   ],
   "source": [
    "print('Prediction time:', stop - start )\n",
    "cnn1d = (stop-start) / (1706)\n",
    "print('Per image:', cnn1d)"
   ]
  },
  {
   "attachments": {},
   "cell_type": "markdown",
   "metadata": {},
   "source": [
    "# 1D ResNet"
   ]
  },
  {
   "cell_type": "code",
   "execution_count": 20,
   "metadata": {},
   "outputs": [],
   "source": [
    "class args:\n",
    "    data_path='/home/huypham/Projects/ecg/dataset/cinc2017/raw'\n",
    "    csv_path='/home/huypham/Projects/ecg/dataset/cinc2017/processed'\n",
    "    batch_size=32\n",
    "    learning_rate=1e-4\n",
    "    max_epochs=500\n",
    "    log_dir='./logs/resnet1d'\n",
    "    resume_from_checkpoint=None\n",
    "    seed=42"
   ]
  },
  {
   "cell_type": "code",
   "execution_count": 21,
   "metadata": {},
   "outputs": [
    {
     "name": "stderr",
     "output_type": "stream",
     "text": [
      "Global seed set to 42\n",
      "GPU available: False, used: False\n",
      "TPU available: False, using: 0 TPU cores\n",
      "IPU available: False, using: 0 IPUs\n",
      "HPU available: False, using: 0 HPUs\n",
      "Restoring states from the checkpoint path at /home/huypham/Projects/ecg/logs_with_eco2ai/logs_cinc2017/resnet1d/lightning_logs/version_0/ckpt/best-epoch=97-val_loss=0.03-val_f1=0.83.ckpt\n",
      "Loaded model weights from checkpoint at /home/huypham/Projects/ecg/logs_with_eco2ai/logs_cinc2017/resnet1d/lightning_logs/version_0/ckpt/best-epoch=97-val_loss=0.03-val_f1=0.83.ckpt\n"
     ]
    },
    {
     "data": {
      "application/vnd.jupyter.widget-view+json": {
       "model_id": "c18b6fa050454240ae26f3c022eb4a10",
       "version_major": 2,
       "version_minor": 0
      },
      "text/plain": [
       "Testing: 0it [00:00, ?it/s]"
      ]
     },
     "metadata": {},
     "output_type": "display_data"
    },
    {
     "name": "stdout",
     "output_type": "stream",
     "text": [
      "────────────────────────────────────────────────────────────────────────────────────────────────────────────────────────\n",
      "       Test metric             DataLoader 0\n",
      "────────────────────────────────────────────────────────────────────────────────────────────────────────────────────────\n",
      "         test_f1            0.8426604270935059\n",
      "        test_loss          0.028243662789463997\n",
      "────────────────────────────────────────────────────────────────────────────────────────────────────────────────────────\n"
     ]
    }
   ],
   "source": [
    "from models.timeseries.resnet1d import ResNet1DLightningModule\n",
    "\n",
    "start = time.time()\n",
    "\n",
    "model = ResNet1DLightningModule(\n",
    "    classes=classes,\n",
    "    class_weights=class_weights,\n",
    "    learning_rate=args.learning_rate,\n",
    ")\n",
    "\n",
    "trainer = pl.Trainer(\n",
    "    accelerator='cpu'\n",
    ")\n",
    "\n",
    "trainer.test(model, dataloaders=test_dataloader, ckpt_path='/home/huypham/Projects/ecg/logs_with_eco2ai/logs_cinc2017/resnet1d/lightning_logs/version_0/ckpt/best-epoch=97-val_loss=0.03-val_f1=0.83.ckpt')\n",
    "\n",
    "stop = time.time()"
   ]
  },
  {
   "cell_type": "code",
   "execution_count": 22,
   "metadata": {},
   "outputs": [
    {
     "name": "stdout",
     "output_type": "stream",
     "text": [
      "Prediction time: 32.087175369262695\n",
      "Per image: 0.01880842635947403\n"
     ]
    }
   ],
   "source": [
    "print('Prediction time:', stop - start )\n",
    "resnet1d = (stop-start) / (1706)\n",
    "print('Per image:', resnet1d)"
   ]
  },
  {
   "attachments": {},
   "cell_type": "markdown",
   "metadata": {},
   "source": [
    "# XGBoost"
   ]
  },
  {
   "cell_type": "code",
   "execution_count": 21,
   "metadata": {},
   "outputs": [],
   "source": [
    "import pandas as pd\n",
    "\n",
    "from preprocess.cinc2017 import process_cinc2017_timeseries\n",
    "from preprocess.utils import *"
   ]
  },
  {
   "cell_type": "code",
   "execution_count": 22,
   "metadata": {},
   "outputs": [
    {
     "name": "stdout",
     "output_type": "stream",
     "text": [
      "[00:58:00] WARNING: ../src/gbm/gbtree.cc:405: Loading from a raw memory buffer on CPU only machine.  Changing tree_method to hist.\n",
      "[00:58:00] WARNING: ../src/learner.cc:339: No visible GPU is found, setting `gpu_id` to -1\n"
     ]
    }
   ],
   "source": [
    "import joblib\n",
    "search = joblib.load('/home/huypham/Projects/ecg/logs_with_eco2ai/logs_cinc2017/tabular/search.pkl')"
   ]
  },
  {
   "cell_type": "code",
   "execution_count": 23,
   "metadata": {},
   "outputs": [],
   "source": [
    "class args:\n",
    "    data_path='/home/huypham/Projects/ecg/dataset/cinc2017/raw/training'\n",
    "    output_dir='/tmp/cinc2017/processed'\n",
    "    sampling_rate=300"
   ]
  },
  {
   "cell_type": "code",
   "execution_count": 24,
   "metadata": {},
   "outputs": [],
   "source": [
    "os.makedirs(args.output_dir, exist_ok=True)"
   ]
  },
  {
   "cell_type": "code",
   "execution_count": 25,
   "metadata": {},
   "outputs": [],
   "source": [
    "train_df = pd.read_csv('/home/huypham/Projects/ecg/dataset/cinc2017/processed/y_train.csv')\n",
    "val_df = pd.read_csv('/home/huypham/Projects/ecg/dataset/cinc2017/processed/y_val.csv')\n",
    "test_df = pd.read_csv('/home/huypham/Projects/ecg/dataset/cinc2017/processed/y_test.csv')\n",
    "\n",
    "train_files = [os.path.join(args.data_path, i) for i in train_df['idx'].to_list()]\n",
    "val_files = [os.path.join(args.data_path, i) for i in val_df['idx'].to_list()]\n",
    "test_files = [os.path.join(args.data_path, i) for i in test_df['idx'].to_list()]\n",
    "\n",
    "X_test = pd.read_csv('/home/huypham/Projects/ecg/dataset/cinc2017/processed/test_features.csv')\n",
    "y_test = test_df.drop(columns=['idx']).to_numpy()\n",
    "\n",
    "# train_features = extract_ts_features(train_files, verbose=True)\n",
    "# train_features.to_csv(os.path.join(args.output_dir, 'train_features.csv'), index=False)\n",
    "\n",
    "# val_features = extract_ts_features(val_files, verbose=True)\n",
    "# val_features.to_csv(os.path.join(args.output_dir, 'val_features.csv'), index=False)"
   ]
  },
  {
   "cell_type": "code",
   "execution_count": 101,
   "metadata": {},
   "outputs": [],
   "source": [
    "mask = search.best_estimator_[0][3].get_support()\n",
    "selected_columns = [c for m, c in zip(mask, X_test.columns) if m]\n",
    "\n",
    "tsfresh_settings = {}\n",
    "for col in selected_columns:\n",
    "    parts = col.split('__')\n",
    "    # print(parts)\n",
    "    # if len(parts) == 2:\n",
    "    #     tsfresh_settings[parts[1]] = None\n",
    "    # elif len(parts) == 3:\n",
    "    #     name = parts[1]\n",
    "    #     k, v = parts[2].rsplit('_', 1)\n",
    "\n",
    "    #     try:\n",
    "    #         v_ = int(v)\n",
    "    #     except:\n",
    "    #         v_ = v\n",
    "\n",
    "    #     if name in tsfresh_settings:\n",
    "    #         tsfresh_settings[name].append({k: v_})\n",
    "    #     else:\n",
    "    #         tsfresh_settings[name] = [{k: v_}]\n",
    "    tsfresh_settings[parts[1]] = EfficientFCParameters()[parts[1]]"
   ]
  },
  {
   "cell_type": "code",
   "execution_count": 102,
   "metadata": {},
   "outputs": [
    {
     "data": {
      "application/vnd.jupyter.widget-view+json": {
       "model_id": "148622aad6b447dcbef70a4d7af380a6",
       "version_major": 2,
       "version_minor": 0
      },
      "text/plain": [
       "  0%|          | 0/1706 [00:00<?, ?it/s]"
      ]
     },
     "metadata": {},
     "output_type": "display_data"
    },
    {
     "name": "stderr",
     "output_type": "stream",
     "text": [
      "Exception ignored in: <function _releaseLock at 0x7f3c33186e60>\n",
      "Traceback (most recent call last):\n",
      "  File \"/home/huypham/miniconda3/envs/ecg/lib/python3.10/logging/__init__.py\", line 228, in _releaseLock\n",
      "    def _releaseLock():\n",
      "KeyboardInterrupt: \n"
     ]
    }
   ],
   "source": [
    "start = time.time()\n",
    "\n",
    "test_features = extract_ts_features(test_files, settings=tsfresh_settings, verbose=True)\n",
    "test_features.to_csv(os.path.join(args.output_dir, 'test_features.csv'), index=False)\n",
    "\n",
    "stop = time.time()"
   ]
  },
  {
   "cell_type": "code",
   "execution_count": 32,
   "metadata": {},
   "outputs": [
    {
     "name": "stdout",
     "output_type": "stream",
     "text": [
      "Processing time: 0.38675975799560547\n",
      "Per image: 0.00022670560257655656\n"
     ]
    }
   ],
   "source": [
    "print('Processing time:', stop - start )\n",
    "tabular_processing_time = (stop-start) / (1706)\n",
    "print('Per image:',  tabular_processing_time)"
   ]
  },
  {
   "cell_type": "code",
   "execution_count": 29,
   "metadata": {},
   "outputs": [],
   "source": [
    "search.best_estimator_[-1].gpu_id=-1"
   ]
  },
  {
   "cell_type": "code",
   "execution_count": 30,
   "metadata": {},
   "outputs": [
    {
     "name": "stderr",
     "output_type": "stream",
     "text": [
      "/home/huypham/miniconda3/envs/ecg/lib/python3.10/site-packages/sklearn/base.py:443: UserWarning: X has feature names, but StandardScaler was fitted without feature names\n",
      "  warnings.warn(\n"
     ]
    }
   ],
   "source": [
    "start = time.time()\n",
    "\n",
    "\n",
    "search.predict(X_test)\n",
    "\n",
    "stop = time.time()"
   ]
  },
  {
   "cell_type": "code",
   "execution_count": 31,
   "metadata": {},
   "outputs": [
    {
     "name": "stdout",
     "output_type": "stream",
     "text": [
      "Processing time: 0.03935599327087402\n",
      "Per image: 2.306916369922276e-05\n"
     ]
    }
   ],
   "source": [
    "print('Processing time:', stop - start )\n",
    "xgb = (stop-start) / (1706)\n",
    "print('Per image:',  xgb)"
   ]
  },
  {
   "attachments": {},
   "cell_type": "markdown",
   "metadata": {},
   "source": [
    "# Summary"
   ]
  },
  {
   "cell_type": "code",
   "execution_count": 7,
   "metadata": {},
   "outputs": [],
   "source": [
    "import seaborn as sns"
   ]
  },
  {
   "cell_type": "code",
   "execution_count": 31,
   "metadata": {},
   "outputs": [],
   "source": [
    "report = [\n",
    "    dict(model='ResNet50', processing=poincare_process_time, prediction=resnet50),\n",
    "    dict(model='DenseNet121', processing=poincare_process_time, prediction=densenet121),\n",
    "    dict(model='1D CNN', processing=ts_processing_time, prediction=cnn1d),\n",
    "    dict(model='1D ResNet', processing=ts_processing_time, prediction=resnet1d),\n",
    "    dict(model='XGBoost', processing=tabular_processing_time, prediction=xgb),\n",
    "]"
   ]
  },
  {
   "cell_type": "code",
   "execution_count": 38,
   "metadata": {},
   "outputs": [
    {
     "data": {
      "text/plain": [
       "\"[{'model': 'ResNet50', 'processing': 0.033698169559967225, 'prediction': 0.037894168604440455}, {'model': 'DenseNet121', 'processing': 0.033698169559967225, 'prediction': 0.03815144628880312}, {'model': '1D CNN', 'processing': 0.013436714379469852, 'prediction': 0.027547516968158037}, {'model': '1D ResNet', 'processing': 0.013436714379469852, 'prediction': 0.01880842635947403}, {'model': 'XGBoost', 'processing': 1.7176005028336716, 'prediction': 0.00022670560257655656}]\""
      ]
     },
     "execution_count": 38,
     "metadata": {},
     "output_type": "execute_result"
    }
   ],
   "source": [
    "# print(report)\n",
    "\"\"\"[{'model': 'ResNet50', 'processing': 0.033698169559967225, 'prediction': 0.037894168604440455}, {'model': 'DenseNet121', 'processing': 0.033698169559967225, 'prediction': 0.03815144628880312}, {'model': '1D CNN', 'processing': 0.013436714379469852, 'prediction': 0.027547516968158037}, {'model': '1D ResNet', 'processing': 0.013436714379469852, 'prediction': 0.01880842635947403}, {'model': 'XGBoost', 'processing': 1.7176005028336716, 'prediction': 0.00022670560257655656}]\"\"\""
   ]
  },
  {
   "cell_type": "code",
   "execution_count": 4,
   "metadata": {},
   "outputs": [],
   "source": [
    "report = [{'model': 'ResNet50', 'processing': 0.033698169559967225, 'prediction': 0.037894168604440455}, {'model': 'DenseNet121', 'processing': 0.033698169559967225, 'prediction': 0.03815144628880312}, {'model': '1D CNN', 'processing': 0.013436714379469852, 'prediction': 0.027547516968158037}, {'model': '1D ResNet', 'processing': 0.013436714379469852, 'prediction': 0.01880842635947403}, {'model': 'XGBoost', 'processing': 1.7176005028336716, 'prediction': 0.00022670560257655656}]"
   ]
  },
  {
   "cell_type": "code",
   "execution_count": 43,
   "metadata": {},
   "outputs": [],
   "source": [
    "df = pd.DataFrame(report)\n",
    "df[df.select_dtypes(include=['number']).columns] *= 1000\n",
    "df = df.set_index('model')\n",
    "# df.to_csv('./timing.csv', index=False)"
   ]
  },
  {
   "cell_type": "code",
   "execution_count": 47,
   "metadata": {},
   "outputs": [
    {
     "name": "stdout",
     "output_type": "stream",
     "text": [
      "| model       |   processing |   prediction |   total |\n",
      "|:------------|-------------:|-------------:|--------:|\n",
      "| ResNet50    |         33.7 |         37.9 |    71.6 |\n",
      "| DenseNet121 |         33.7 |         38.2 |    71.8 |\n",
      "| 1D CNN      |         13.4 |         27.5 |    41   |\n",
      "| 1D ResNet   |         13.4 |         18.8 |    32.2 |\n",
      "| XGBoost     |       1717.6 |          0.2 |  1717.8 |\n"
     ]
    }
   ],
   "source": [
    "df['total'] = df['processing'] + df['prediction']\n",
    "\n",
    "print(df.round(1).to_markdown())"
   ]
  },
  {
   "cell_type": "code",
   "execution_count": 50,
   "metadata": {},
   "outputs": [
    {
     "data": {
      "text/html": [
       "<div>\n",
       "<style scoped>\n",
       "    .dataframe tbody tr th:only-of-type {\n",
       "        vertical-align: middle;\n",
       "    }\n",
       "\n",
       "    .dataframe tbody tr th {\n",
       "        vertical-align: top;\n",
       "    }\n",
       "\n",
       "    .dataframe thead th {\n",
       "        text-align: right;\n",
       "    }\n",
       "</style>\n",
       "<table border=\"1\" class=\"dataframe\">\n",
       "  <thead>\n",
       "    <tr style=\"text-align: right;\">\n",
       "      <th></th>\n",
       "      <th>processing</th>\n",
       "      <th>prediction</th>\n",
       "      <th>total</th>\n",
       "    </tr>\n",
       "    <tr>\n",
       "      <th>model</th>\n",
       "      <th></th>\n",
       "      <th></th>\n",
       "      <th></th>\n",
       "    </tr>\n",
       "  </thead>\n",
       "  <tbody>\n",
       "    <tr>\n",
       "      <th>ResNet50</th>\n",
       "      <td>33.698170</td>\n",
       "      <td>37.894169</td>\n",
       "      <td>71.592338</td>\n",
       "    </tr>\n",
       "    <tr>\n",
       "      <th>DenseNet121</th>\n",
       "      <td>33.698170</td>\n",
       "      <td>38.151446</td>\n",
       "      <td>71.849616</td>\n",
       "    </tr>\n",
       "    <tr>\n",
       "      <th>1D CNN</th>\n",
       "      <td>13.436714</td>\n",
       "      <td>27.547517</td>\n",
       "      <td>40.984231</td>\n",
       "    </tr>\n",
       "    <tr>\n",
       "      <th>1D ResNet</th>\n",
       "      <td>13.436714</td>\n",
       "      <td>18.808426</td>\n",
       "      <td>32.245141</td>\n",
       "    </tr>\n",
       "    <tr>\n",
       "      <th>XGBoost</th>\n",
       "      <td>1717.600503</td>\n",
       "      <td>0.226706</td>\n",
       "      <td>1717.827208</td>\n",
       "    </tr>\n",
       "  </tbody>\n",
       "</table>\n",
       "</div>"
      ],
      "text/plain": [
       "              processing  prediction        total\n",
       "model                                            \n",
       "ResNet50       33.698170   37.894169    71.592338\n",
       "DenseNet121    33.698170   38.151446    71.849616\n",
       "1D CNN         13.436714   27.547517    40.984231\n",
       "1D ResNet      13.436714   18.808426    32.245141\n",
       "XGBoost      1717.600503    0.226706  1717.827208"
      ]
     },
     "execution_count": 50,
     "metadata": {},
     "output_type": "execute_result"
    }
   ],
   "source": [
    "df"
   ]
  },
  {
   "cell_type": "code",
   "execution_count": 136,
   "metadata": {},
   "outputs": [
    {
     "data": {
      "image/png": "[encoded data removed]",
      "text/plain": [
       "<Figure size 600x400 with 2 Axes>"
      ]
     },
     "metadata": {},
     "output_type": "display_data"
    }
   ],
   "source": [
    "fig, (ax1,ax2) = plt.subplots(2, 1, sharex=True, figsize=(6, 4))\n",
    "ax1.spines['bottom'].set_visible(False)\n",
    "ax1.tick_params(axis='x',which='both',bottom=False)\n",
    "ax2.spines['top'].set_visible(False)\n",
    "ax2.set_ylim(0,100)\n",
    "ax1.set_ylim(1620,1720)\n",
    "ax2.set_yticks(np.arange(0, 101, 50))\n",
    "ax1.set_yticks(np.arange(1650, 1751, 50))\n",
    "df.drop(columns=['total']).plot(ax=ax1, kind='bar', stacked=True)\n",
    "df.drop(columns=['total']).plot(ax=ax2, kind='bar', stacked=True)\n",
    "for tick in ax2.get_xticklabels():\n",
    "    tick.set_rotation(0)\n",
    "\n",
    "d = .01\n",
    "kwargs = dict(transform=ax1.transAxes, color='k', clip_on=False)\n",
    "ax1.plot((-d, +d), (-d, +d), **kwargs)      \n",
    "ax1.plot((1 - d, 1 + d), (-d, +d), **kwargs)\n",
    "\n",
    "kwargs.update(transform=ax2.transAxes)  \n",
    "ax2.plot((-d, +d), (1 - d, 1 + d), **kwargs)  \n",
    "ax2.plot((1 - d, 1 + d), (1 - d, 1 + d), **kwargs)\n",
    "\n",
    "ax1.get_legend().remove()\n",
    "ax2.legend(\n",
    "    loc='lower center', ncols=2, bbox_to_anchor=(0.5, -0.5, 0, 0)\n",
    ")\n",
    "ax2.get_legend().get_texts()[0].set_text('Processing Time')\n",
    "ax2.get_legend().get_texts()[1].set_text('Prediction Time')\n",
    "# ax2.get_legend().remove()\n",
    "\n",
    "\n",
    "plt.xlabel('')\n",
    "ax2.set_ylabel('Time (ms)', y=1)\n",
    "plt.savefig('inference_time.pdf', bbox_inches='tight', dpi=100)"
   ]
  },
  {
   "cell_type": "code",
   "execution_count": 59,
   "metadata": {},
   "outputs": [],
   "source": [
    "# sns.barplot(data=df, x='model', y='total')\n",
    "# plt.yscale('log')\n",
    "# df.drop(columns=['total']).plot(kind='bar', stacked=True)\n",
    "# plt.yscale('log')"
   ]
  },
  {
   "cell_type": "code",
   "execution_count": 131,
   "metadata": {},
   "outputs": [],
   "source": []
  },
  {
   "cell_type": "code",
   "execution_count": null,
   "metadata": {},
   "outputs": [],
   "source": []
  }
 ],
 "metadata": {
  "kernelspec": {
   "display_name": "ecg",
   "language": "python",
   "name": "python3"
  },
  "language_info": {
   "codemirror_mode": {
    "name": "ipython",
    "version": 3
   },
   "file_extension": ".py",
   "mimetype": "text/x-python",
   "name": "python",
   "nbconvert_exporter": "python",
   "pygments_lexer": "ipython3",
   "version": "3.10.8 (main, Nov 24 2022, 14:13:03) [GCC 11.2.0]"
  },
  "orig_nbformat": 4,
  "vscode": {
   "interpreter": {
    "hash": "6b7ffe4ee93e8953dab2367d42bda680b8cdba40f757ded9002091e8addd73ae"
   }
  }
 },
 "nbformat": 4,
 "nbformat_minor": 2
}
