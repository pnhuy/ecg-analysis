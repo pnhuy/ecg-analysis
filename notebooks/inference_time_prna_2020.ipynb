{
 "cells": [
  {
   "cell_type": "code",
   "execution_count": 1,
   "id": "b3a38332-be08-4405-85d4-820e1ed8f77f",
   "metadata": {},
   "outputs": [],
   "source": [
    "import sys\n",
    "import os\n",
    "source_path = '/home/huypham/Projects/ecg/tmp/physionet2020-submission'\n",
    "if source_path not in sys.path:\n",
    "    sys.path.append(source_path)"
   ]
  },
  {
   "cell_type": "code",
   "execution_count": 2,
   "id": "1df94f8f-e7c2-4407-a518-a7e52ca7e4dd",
   "metadata": {},
   "outputs": [],
   "source": [
    "import time"
   ]
  },
  {
   "cell_type": "code",
   "execution_count": 3,
   "id": "7869fc16-9eb8-470f-a94e-465b7710171d",
   "metadata": {},
   "outputs": [
    {
     "name": "stderr",
     "output_type": "stream",
     "text": [
      "/home/huypham/miniconda3/envs/cinc2020/lib/python3.7/site-packages/tqdm/auto.py:22: TqdmWarning: IProgress not found. Please update jupyter and ipywidgets. See https://ipywidgets.readthedocs.io/en/stable/user_install.html\n",
      "  from .autonotebook import tqdm as notebook_tqdm\n"
     ]
    }
   ],
   "source": [
    "from train_12ECG_classifier import *"
   ]
  },
  {
   "cell_type": "code",
   "execution_count": 4,
   "id": "2c261f11-4dbc-4421-8aa6-cce462c3a6a0",
   "metadata": {},
   "outputs": [],
   "source": [
    "input_directory = \"/home/huypham/Projects/ecg/tmp/physionet2020-submission/input\"\n",
    "output_directory = \"/tmp/prna/\""
   ]
  },
  {
   "cell_type": "code",
   "execution_count": 5,
   "id": "8a6cd8c2-2bb5-4bce-a45c-5a71a353e70d",
   "metadata": {},
   "outputs": [],
   "source": [
    "!rm -rf /tmp/prna/\n",
    "!mkdir -p /tmp/prna/\n",
    "!cp -r /home/huypham/Projects/ecg/tmp/physionet2020-submission/output/saved_models /tmp/prna/"
   ]
  },
  {
   "cell_type": "code",
   "execution_count": 6,
   "id": "3ae50cc1-4c89-4cd2-ad38-1068f216e7db",
   "metadata": {},
   "outputs": [],
   "source": [
    "src_path = Path(input_directory)\n",
    "# train_classifier(src_path, output_directory, 'test')"
   ]
  },
  {
   "cell_type": "code",
   "execution_count": 7,
   "id": "159fddf9-76f3-414d-a741-d96a0d94bbf2",
   "metadata": {},
   "outputs": [],
   "source": [
    "do_train = False\n",
    "batch_size = 1"
   ]
  },
  {
   "cell_type": "code",
   "execution_count": 8,
   "id": "d9dadb6e-b168-491c-a02c-d4995791c59e",
   "metadata": {},
   "outputs": [
    {
     "name": "stdout",
     "output_type": "stream",
     "text": [
      "trn: train\n",
      "val: val\n",
      "tst: test\n",
      "Number of params: 13643885\n",
      "/tmp/prna/saved_models/ctn/fold_test\n"
     ]
    }
   ],
   "source": [
    "patience_count = 0\n",
    "best_auroc = 0.\n",
    "\n",
    "torch.manual_seed(1)\n",
    "if torch.cuda.is_available():\n",
    "    torch.cuda.manual_seed(1)\n",
    "device = torch.device('cpu')\n",
    "\n",
    "# Train, validation and test fold splits\n",
    "# val_fold = (tst_fold - 1) % 10\n",
    "# trn_fold = np.delete(np.arange(10), [val_fold, tst_fold])\n",
    "val_fold = 'val'\n",
    "trn_fold = 'train'\n",
    "tst_fold = 'test'\n",
    "\n",
    "print('trn:', trn_fold)\n",
    "print('val:', val_fold)\n",
    "print('tst:', tst_fold)\n",
    "\n",
    "model = CTN(d_model, nhead, d_ff, num_layers, dropout_rate, deepfeat_sz, nb_feats, nb_demo, classes).to(device)\n",
    "\n",
    "# Initialize parameters with Glorot / fan_avg.\n",
    "for p in model.parameters():\n",
    "    if p.dim() > 1:\n",
    "        nn.init.xavier_uniform_(p)\n",
    "\n",
    "# model = torch.nn.DataParallel(model, device_ids=range(torch.cuda.device_count()))\n",
    "\n",
    "print(f'Number of params: {sum([p.data.nelement() for p in model.parameters()])}')\n",
    "\n",
    "trn_df = data_df[data_df.fold == trn_fold]\n",
    "val_df = data_df[data_df.fold == val_fold]\n",
    "tst_df = data_df[data_df.fold == tst_fold]\n",
    "\n",
    "if debug:\n",
    "    trn_df = trn_df[:5]\n",
    "    val_df = val_df[:5]\n",
    "    tst_df = tst_df[:5]\n",
    "\n",
    "if padding == 'zero':\n",
    "    trnloader = DataLoader(ECGWindowPaddingDataset(trn_df, window, nb_windows=1, src_path=src_path, cache_dir='cache/train'), batch_size=batch_size, shuffle=True, num_workers=8, collate_fn=collate_fn)\n",
    "    valloader = DataLoader(ECGWindowPaddingDataset(val_df, window, nb_windows=10, src_path=src_path, cache_dir='cache/val'), batch_size=batch_size, shuffle=False, num_workers=8, collate_fn=collate_fn)\n",
    "    tstloader = DataLoader(ECGWindowPaddingDataset(tst_df, window, nb_windows=20, src_path=src_path, cache_dir=None), batch_size=batch_size, shuffle=False, num_workers=8, collate_fn=collate_fn)\n",
    "elif padding == 'qrs':\n",
    "    trnloader = DataLoader(ECGWindowAlignedDataset(trn_df, window, nb_windows=1, src_path=src_path, cache_dir='cache/train'), batch_size=batch_size, shuffle=True, num_workers=8, collate_fn=collate_fn)\n",
    "    valloader = DataLoader(ECGWindowAlignedDataset(val_df, window, nb_windows=10, src_path=src_path, cache_dir='cache/val'), batch_size=batch_size, shuffle=False, num_workers=8, collate_fn=collate_fn)\n",
    "    tstloader = DataLoader(ECGWindowAlignedDataset(tst_df, window, nb_windows=20, src_path=src_path, cache_dir=None), batch_size=batch_size, shuffle=False, num_workers=8, collate_fn=collate_fn)\n",
    "\n",
    "optimizer = NoamOpt(d_model, 1, 4000, torch.optim.Adam(model.parameters(), lr=0, betas=(0.9, 0.98), eps=1e-9))\n",
    "\n",
    "# Create dir structure and init logs\n",
    "results_loc, sw = create_experiment_directory(output_directory)\n",
    "fold_loc = create_fold_dir(results_loc, tst_fold)\n",
    "start_log(fold_loc, tst_fold)\n",
    "\n",
    "print(fold_loc)\n",
    "\n",
    "if do_train:\n",
    "    for epoch in tqdm(range(100), desc='epoch'):\n",
    "        trn_loss, trn_auroc = train(epoch, model, trnloader, optimizer)\n",
    "        val_loss, val_auroc = validate(epoch, model, valloader, optimizer, fold_loc)\n",
    "        write_log(fold_loc, tst_fold, epoch, trn_loss, trn_auroc, val_loss, val_auroc)\n",
    "        print(f'Train - loss: {trn_loss}, auroc: {trn_auroc}')\n",
    "        print(f'Valid - loss: {val_loss}, auroc: {val_auroc}')\n",
    "        \n",
    "        sw.add_scalar(f'{tst_fold}/trn/loss', trn_loss, epoch)\n",
    "        sw.add_scalar(f'{tst_fold}/trn/auroc', trn_auroc, epoch)\n",
    "        sw.add_scalar(f'{tst_fold}/val/loss', val_loss, epoch)\n",
    "        sw.add_scalar(f'{tst_fold}/val/auroc', val_auroc, epoch)\n",
    "\n",
    "        # Early stopping\n",
    "        if patience_count >= patience:\n",
    "            print(f'Early stopping invoked at epoch, #{epoch}')\n",
    "            break\n",
    "    \n",
    "# Training done, choose threshold...\n",
    "# model = load_best_model(str(f'{fold_loc}/{model_name}.tar'), model)\n",
    "ckpt = '/tmp/prna/saved_models/ctn/fold_test/ctn.tar'\n",
    "checkpoint = torch.load(ckpt, map_location=torch.device('cpu'))\n",
    "\n",
    "state_dict = checkpoint['model_state_dict']\n",
    "\n",
    "module_name = list(state_dict.keys())\n",
    "for mod in module_name:\n",
    "    weight = state_dict.pop(mod)\n",
    "    mod = mod.replace('module.', '')\n",
    "    state_dict[mod] = weight\n",
    "\n",
    "model.load_state_dict(state_dict)\n",
    "\n",
    "if padding == 'zero':\n",
    "    valloader = DataLoader(ECGWindowPaddingDataset(val_df, window, nb_windows=20, src_path=src_path, cache_dir='cache/val'), batch_size=batch_size, shuffle=False, num_workers=8, collate_fn=collate_fn)\n",
    "    tstloader = DataLoader(ECGWindowPaddingDataset(tst_df, window, nb_windows=20, src_path=src_path, cache_dir=None), batch_size=batch_size, shuffle=False, num_workers=8, collate_fn=collate_fn)\n",
    "elif padding == 'qrs':\n",
    "    valloader = DataLoader(ECGWindowAlignedDataset(val_df, window, nb_windows=20, src_path=src_path), batch_size=batch_size, shuffle=False, num_workers=8, collate_fn=collate_fn)\n",
    "    tstloader = DataLoader(ECGWindowAlignedDataset(tst_df, window, nb_windows=20, src_path=src_path), batch_size=batch_size, shuffle=False, num_workers=8, collate_fn=collate_fn)"
   ]
  },
  {
   "cell_type": "code",
   "execution_count": 9,
   "id": "f43c0860-28d5-4519-8b7a-7aa9fecdab97",
   "metadata": {},
   "outputs": [],
   "source": [
    "dataloader = tstloader\n",
    "total = len(dataloader)"
   ]
  },
  {
   "cell_type": "code",
   "execution_count": 10,
   "id": "2c753a95-70a0-4714-ba40-ad56e688b45a",
   "metadata": {},
   "outputs": [
    {
     "name": "stderr",
     "output_type": "stream",
     "text": [
      "get_probs: 100%|█████████████████████████████████████████████████████████████████████████████████████| 8621/8621 [2:01:04<00:00,  1.19it/s]\n"
     ]
    }
   ],
   "source": [
    "''' Return probs and lbls given model and dataloader '''\n",
    "model.eval()\n",
    "probs, lbls = [], []\n",
    "processing_time = []\n",
    "predicting_time = []\n",
    "\n",
    "for i, (inp_windows_t, feats_t, lbl_t, hdr, filename) in tqdm(enumerate(dataloader), total=len(dataloader), desc='get_probs', disable=False):\n",
    "    # print(i, '/', total)\n",
    "    start_processing = time.time()\n",
    "    # Get normalized data\n",
    "    inp_windows_t, lbl_t = inp_windows_t.float().to(device), lbl_t.float().to(device)\n",
    "    \n",
    "    # Get (normalized) demographic data and append to top (normalized) features\n",
    "    # Be careful not to double count Age/Gender in future\n",
    "    # age_t = torch.FloatTensor((get_age(hdr[13])[None].T - data_df.Age.mean()) / data_df.Age.std())\n",
    "    # sex_t = torch.FloatTensor([1. if h.find('Female') >= 0. else 0 for h in hdr[14]])[None].T\n",
    "\n",
    "    ages = [i[13] for i in hdr]\n",
    "    age_t = torch.FloatTensor((get_age(ages)[None].T - data_df.Age.mean()) / data_df.Age.std())\n",
    "    sex_t = torch.FloatTensor(\n",
    "        # [1. if h.find('Female') >= 0. else 0 for h in hdr[14]]\n",
    "        [1. if h[14].find('Female') >= 0. else 0 for h in hdr]\n",
    "    )[None].T\n",
    "\n",
    "\n",
    "    wide_feats = torch.cat([age_t, sex_t, feats_t.squeeze(1).float()], dim=1).to(device)\n",
    "\n",
    "    stop_processing = time.time()\n",
    "\n",
    "    processing_time.append(stop_processing - start_processing)\n",
    "\n",
    "    # Predict\n",
    "    start_predicting = time.time()\n",
    "    outs = []\n",
    "    with torch.no_grad():\n",
    "        # Loop over nb_windows\n",
    "        for inp_t in inp_windows_t.transpose(1, 0):\n",
    "            out = model(inp_t, wide_feats)\n",
    "            outs.append(out)\n",
    "        out = torch.stack(outs).mean(dim=0)   # take the average of the sequence windows\n",
    "\n",
    "    # Collect probs and labels\n",
    "    probs.append(out.sigmoid().data.cpu().numpy())\n",
    "    lbls.append(lbl_t.data.cpu().numpy())\n",
    "    stop_predicting = time.time()\n",
    "    predicting_time.append(stop_predicting - start_predicting)\n",
    "\n",
    "# Consolidate probs and labels\n",
    "lbls = np.concatenate(lbls)\n",
    "probs = np.concatenate(probs)"
   ]
  },
  {
   "cell_type": "code",
   "execution_count": 12,
   "id": "150d6c56-c393-434a-830c-faf94cf7a833",
   "metadata": {},
   "outputs": [
    {
     "name": "stdout",
     "output_type": "stream",
     "text": [
      "Processing: 4.921544885541347\n",
      "Predicting: 833.5824819469021\n",
      "Total: 838.5040268324434\n"
     ]
    }
   ],
   "source": [
    "print('Processing:', np.mean(processing_time)*1000)\n",
    "print('Predicting:', np.mean(predicting_time)*1000)\n",
    "print('Total:', 1000*(np.mean(processing_time) + np.mean(predicting_time)))"
   ]
  },
  {
   "cell_type": "code",
   "execution_count": null,
   "id": "76ffa600-cc5d-4f45-8270-3e451d575793",
   "metadata": {},
   "outputs": [],
   "source": []
  }
 ],
 "metadata": {
  "kernelspec": {
   "display_name": "cinc2020",
   "language": "python",
   "name": "cinc2020"
  },
  "language_info": {
   "codemirror_mode": {
    "name": "ipython",
    "version": 3
   },
   "file_extension": ".py",
   "mimetype": "text/x-python",
   "name": "python",
   "nbconvert_exporter": "python",
   "pygments_lexer": "ipython3",
   "version": "3.7.15"
  }
 },
 "nbformat": 4,
 "nbformat_minor": 5
}
