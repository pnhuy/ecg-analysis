{
 "cells": [
  {
   "cell_type": "code",
   "execution_count": 1,
   "metadata": {},
   "outputs": [],
   "source": [
    "import sys\n",
    "sys.path.append('..')\n",
    "\n",
    "import os\n",
    "os.environ['CUDA_VISIBLE_DEVICES'] = ''\n",
    "\n",
    "import time\n",
    "\n",
    "import torch\n",
    "torch.multiprocessing.set_sharing_strategy('file_system')\n"
   ]
  },
  {
   "cell_type": "code",
   "execution_count": 2,
   "metadata": {},
   "outputs": [],
   "source": [
    "dataframe = []"
   ]
  },
  {
   "attachments": {},
   "cell_type": "markdown",
   "metadata": {},
   "source": [
    "# Poincare"
   ]
  },
  {
   "attachments": {},
   "cell_type": "markdown",
   "metadata": {},
   "source": [
    "## Poincare PreProcessing"
   ]
  },
  {
   "cell_type": "code",
   "execution_count": 3,
   "metadata": {},
   "outputs": [],
   "source": [
    "from preprocess.cinc2020 import process_cinc2020_poincare_diagram"
   ]
  },
  {
   "cell_type": "code",
   "execution_count": 4,
   "metadata": {},
   "outputs": [],
   "source": [
    "!rm -rf /tmp/cinc2020/processed"
   ]
  },
  {
   "cell_type": "code",
   "execution_count": 5,
   "metadata": {},
   "outputs": [],
   "source": [
    "class args:\n",
    "    data_path='/home/huypham/Projects/ecg/dataset/cinc2020/raw'\n",
    "    out_dir='/tmp/cinc2020/processed'\n",
    "    seed=42\n",
    "    mode='poincare'\n",
    "\n",
    "os.makedirs(args.out_dir, exist_ok=True)"
   ]
  },
  {
   "cell_type": "code",
   "execution_count": 6,
   "metadata": {},
   "outputs": [],
   "source": [
    "%matplotlib agg"
   ]
  },
  {
   "cell_type": "code",
   "execution_count": 7,
   "metadata": {},
   "outputs": [
    {
     "data": {
      "application/json": {
       "ascii": false,
       "bar_format": null,
       "colour": null,
       "elapsed": 0.0036237239837646484,
       "initial": 0,
       "n": 0,
       "ncols": null,
       "nrows": 37,
       "postfix": null,
       "prefix": "Processing",
       "rate": null,
       "total": 43101,
       "unit": "it",
       "unit_divisor": 1000,
       "unit_scale": false
      },
      "application/vnd.jupyter.widget-view+json": {
       "model_id": "7f7be98bf6834ef4bc4bca234ba4c894",
       "version_major": 2,
       "version_minor": 0
      },
      "text/plain": [
       "Processing:   0%|          | 0/43101 [00:00<?, ?it/s]"
      ]
     },
     "metadata": {},
     "output_type": "display_data"
    }
   ],
   "source": [
    "# Poincare generation\n",
    "start = time.time()\n",
    "\n",
    "process_cinc2020_poincare_diagram(args)\n",
    "\n",
    "stop = time.time()\n",
    "\n",
    "# print('Processing time:', stop - start)"
   ]
  },
  {
   "cell_type": "code",
   "execution_count": 8,
   "metadata": {},
   "outputs": [
    {
     "name": "stdout",
     "output_type": "stream",
     "text": [
      "9793.93241739273\n"
     ]
    }
   ],
   "source": [
    "poincare_process_time = (stop - start)\n",
    "print(poincare_process_time)"
   ]
  },
  {
   "cell_type": "code",
   "execution_count": 62,
   "metadata": {},
   "outputs": [
    {
     "name": "stdout",
     "output_type": "stream",
     "text": [
      "0.22723213886899912\n"
     ]
    }
   ],
   "source": [
    "poincare_process_time = poincare_process_time / 43101\n",
    "print(poincare_process_time)"
   ]
  },
  {
   "cell_type": "code",
   "execution_count": 9,
   "metadata": {},
   "outputs": [
    {
     "name": "stderr",
     "output_type": "stream",
     "text": [
      "Global seed set to 42\n",
      "Global seed set to 42\n"
     ]
    }
   ],
   "source": [
    "import pytorch_lightning as pl\n",
    "from pytorch_lightning.loggers import TensorBoardLogger\n",
    "from pytorch_lightning.callbacks import ModelCheckpoint\n",
    "\n",
    "\n",
    "from data.images.images import PtbXlDataModule\n",
    "from models.images.images import ImageClassifier"
   ]
  },
  {
   "cell_type": "code",
   "execution_count": 10,
   "metadata": {},
   "outputs": [],
   "source": [
    "class args:\n",
    "    data_path = '/home/huypham/Projects/ecg/dataset/cinc2020/'\n",
    "    batch_size = 1\n",
    "    model_barebone = 'resnet50'\n",
    "    learning_rate = 1e-5\n",
    "    max_epochs = 50\n",
    "    log_dir = '/tmp/logs'\n",
    "    resume_from_checkpoint = None\n",
    "    seed = 42"
   ]
  },
  {
   "cell_type": "code",
   "execution_count": 11,
   "metadata": {},
   "outputs": [
    {
     "name": "stderr",
     "output_type": "stream",
     "text": [
      "Global seed set to 42\n",
      "Global seed set to 42\n"
     ]
    },
    {
     "name": "stdout",
     "output_type": "stream",
     "text": [
      "Train data lenghth: 25860\n"
     ]
    }
   ],
   "source": [
    "train_dir = os.path.join(args.data_path, 'processed')\n",
    "train_label = os.path.join(args.data_path, 'processed/y_train.csv')\n",
    "val_dir = os.path.join(args.data_path, 'processed')\n",
    "val_label = os.path.join(args.data_path, 'processed/y_val.csv')\n",
    "test_dir = os.path.join(args.data_path, 'processed')\n",
    "test_label = os.path.join(args.data_path, 'processed/y_test.csv')\n",
    "\n",
    "datamodule = PtbXlDataModule(\n",
    "    train_dir=train_dir,\n",
    "    train_label=train_label,\n",
    "    val_dir=val_dir,\n",
    "    val_label=val_label,\n",
    "    test_dir=test_dir,\n",
    "    test_label=test_label,\n",
    "    batch_size=args.batch_size\n",
    ")\n",
    "\n",
    "classes = datamodule.train_dataset.labels.columns\n",
    "print('Train data lenghth:', len(datamodule.train_dataset))   "
   ]
  },
  {
   "attachments": {},
   "cell_type": "markdown",
   "metadata": {},
   "source": [
    "## ResNet50"
   ]
  },
  {
   "cell_type": "code",
   "execution_count": 12,
   "metadata": {},
   "outputs": [
    {
     "name": "stderr",
     "output_type": "stream",
     "text": [
      "Global seed set to 42\n",
      "GPU available: False, used: False\n",
      "TPU available: False, using: 0 TPU cores\n",
      "IPU available: False, using: 0 IPUs\n",
      "HPU available: False, using: 0 HPUs\n",
      "Restoring states from the checkpoint path at /home/huypham/Projects/ecg/logs_with_eco2ai/logs_cinc2020/poincare/resnet50/lightning_logs/version_0/ckpt/best-epoch=3-val_loss=0.15-val_f1=0.46.ckpt\n",
      "Loaded model weights from checkpoint at /home/huypham/Projects/ecg/logs_with_eco2ai/logs_cinc2020/poincare/resnet50/lightning_logs/version_0/ckpt/best-epoch=3-val_loss=0.15-val_f1=0.46.ckpt\n",
      "Global seed set to 42\n",
      "/home/huypham/miniconda3/envs/ecg/lib/python3.10/site-packages/pytorch_lightning/trainer/connectors/data_connector.py:224: PossibleUserWarning: The dataloader, test_dataloader 0, does not have many workers which may be a bottleneck. Consider increasing the value of the `num_workers` argument` (try 8 which is the number of cpus on this machine) in the `DataLoader` init to improve performance.\n",
      "  rank_zero_warn(\n"
     ]
    },
    {
     "data": {
      "application/json": {
       "ascii": false,
       "bar_format": null,
       "colour": null,
       "elapsed": 0.0033407211303710938,
       "initial": 0,
       "n": 0,
       "ncols": 139,
       "nrows": 37,
       "postfix": null,
       "prefix": "Testing",
       "rate": null,
       "total": null,
       "unit": "it",
       "unit_divisor": 1000,
       "unit_scale": false
      },
      "application/vnd.jupyter.widget-view+json": {
       "model_id": "ab8e05fd31d54608836ac88259551c42",
       "version_major": 2,
       "version_minor": 0
      },
      "text/plain": [
       "Testing: 0it [00:00, ?it/s]"
      ]
     },
     "metadata": {},
     "output_type": "display_data"
    },
    {
     "name": "stdout",
     "output_type": "stream",
     "text": [
      "────────────────────────────────────────────────────────────────────────────────────────────────────────────────────────\n",
      "       Test metric             DataLoader 0\n",
      "────────────────────────────────────────────────────────────────────────────────────────────────────────────────────────\n",
      "         test_f1            0.4504656493663788\n",
      "        test_loss           0.15440258383750916\n",
      "────────────────────────────────────────────────────────────────────────────────────────────────────────────────────────\n"
     ]
    }
   ],
   "source": [
    "start = time.time()\n",
    "\n",
    "model = ImageClassifier(\n",
    "    classes=classes,\n",
    "    barebone='resnet50',\n",
    "    learning_rate=args.learning_rate,\n",
    "    loss_type='bce'\n",
    ")\n",
    "\n",
    "trainer = pl.Trainer(\n",
    "    accelerator='cpu',\n",
    "    deterministic=False,\n",
    ")\n",
    "\n",
    "trainer.test(\n",
    "    model=model,\n",
    "    datamodule=datamodule,\n",
    "    ckpt_path='/home/huypham/Projects/ecg/logs_with_eco2ai/logs_cinc2020/poincare/resnet50/lightning_logs/version_0/ckpt/best-epoch=3-val_loss=0.15-val_f1=0.46.ckpt',\n",
    ")\n",
    "\n",
    "stop = time.time()\n"
   ]
  },
  {
   "cell_type": "code",
   "execution_count": 13,
   "metadata": {},
   "outputs": [
    {
     "name": "stdout",
     "output_type": "stream",
     "text": [
      "Per image: 0.035986953151708634\n"
     ]
    }
   ],
   "source": [
    "# print('Prediction time:', stop - start)\n",
    "resnet50 = (stop-start)/len(datamodule.test_dataset)\n",
    "print('Per image:', resnet50)"
   ]
  },
  {
   "attachments": {},
   "cell_type": "markdown",
   "metadata": {},
   "source": [
    "## DenseNet121"
   ]
  },
  {
   "cell_type": "code",
   "execution_count": 14,
   "metadata": {},
   "outputs": [
    {
     "name": "stderr",
     "output_type": "stream",
     "text": [
      "Global seed set to 42\n",
      "GPU available: False, used: False\n",
      "TPU available: False, using: 0 TPU cores\n",
      "IPU available: False, using: 0 IPUs\n",
      "HPU available: False, using: 0 HPUs\n",
      "Restoring states from the checkpoint path at /home/huypham/Projects/ecg/logs_with_eco2ai/logs_cinc2020/poincare/densenet121/lightning_logs/version_0/ckpt/best-epoch=9-val_loss=0.15-val_f1=0.50.ckpt\n",
      "Loaded model weights from checkpoint at /home/huypham/Projects/ecg/logs_with_eco2ai/logs_cinc2020/poincare/densenet121/lightning_logs/version_0/ckpt/best-epoch=9-val_loss=0.15-val_f1=0.50.ckpt\n",
      "Global seed set to 42\n",
      "/home/huypham/miniconda3/envs/ecg/lib/python3.10/site-packages/pytorch_lightning/trainer/connectors/data_connector.py:224: PossibleUserWarning: The dataloader, test_dataloader 0, does not have many workers which may be a bottleneck. Consider increasing the value of the `num_workers` argument` (try 8 which is the number of cpus on this machine) in the `DataLoader` init to improve performance.\n",
      "  rank_zero_warn(\n"
     ]
    },
    {
     "data": {
      "application/json": {
       "ascii": false,
       "bar_format": null,
       "colour": null,
       "elapsed": 0.0033690929412841797,
       "initial": 0,
       "n": 0,
       "ncols": 139,
       "nrows": 37,
       "postfix": null,
       "prefix": "Testing",
       "rate": null,
       "total": null,
       "unit": "it",
       "unit_divisor": 1000,
       "unit_scale": false
      },
      "application/vnd.jupyter.widget-view+json": {
       "model_id": "9a4610618efd4847a77751317fa4b5e1",
       "version_major": 2,
       "version_minor": 0
      },
      "text/plain": [
       "Testing: 0it [00:00, ?it/s]"
      ]
     },
     "metadata": {},
     "output_type": "display_data"
    },
    {
     "name": "stdout",
     "output_type": "stream",
     "text": [
      "────────────────────────────────────────────────────────────────────────────────────────────────────────────────────────\n",
      "       Test metric             DataLoader 0\n",
      "────────────────────────────────────────────────────────────────────────────────────────────────────────────────────────\n",
      "         test_f1            0.4962764084339142\n",
      "        test_loss           0.15268494188785553\n",
      "────────────────────────────────────────────────────────────────────────────────────────────────────────────────────────\n"
     ]
    }
   ],
   "source": [
    "start = time.time()\n",
    "\n",
    "model = ImageClassifier(\n",
    "    classes=classes,\n",
    "    barebone='densenet121',\n",
    "    learning_rate=args.learning_rate,\n",
    "    loss_type='bce'\n",
    ")\n",
    "\n",
    "trainer = pl.Trainer(\n",
    "    accelerator='cpu',\n",
    "    deterministic=False,\n",
    ")\n",
    "\n",
    "trainer.test(\n",
    "    model=model,\n",
    "    datamodule=datamodule,\n",
    "    ckpt_path='/home/huypham/Projects/ecg/logs_with_eco2ai/logs_cinc2020/poincare/densenet121/lightning_logs/version_0/ckpt/best-epoch=9-val_loss=0.15-val_f1=0.50.ckpt',\n",
    ")\n",
    "\n",
    "stop = time.time()"
   ]
  },
  {
   "cell_type": "code",
   "execution_count": 15,
   "metadata": {},
   "outputs": [
    {
     "name": "stdout",
     "output_type": "stream",
     "text": [
      "Per image: 0.03631659785302661\n"
     ]
    }
   ],
   "source": [
    "# print('Prediction time:', stop - start)\n",
    "densenet121 = (stop-start)/len(datamodule.test_dataset)\n",
    "print('Per image:', densenet121)"
   ]
  },
  {
   "attachments": {},
   "cell_type": "markdown",
   "metadata": {},
   "source": [
    "# 1D CNN"
   ]
  },
  {
   "cell_type": "code",
   "execution_count": 16,
   "metadata": {},
   "outputs": [],
   "source": [
    "import pytorch_lightning as pl\n",
    "from pytorch_lightning.loggers import TensorBoardLogger\n",
    "from pytorch_lightning.callbacks import ModelCheckpoint\n",
    "\n",
    "from data.timeseries.timeseries import TimeSeriesDataModule\n",
    "from models.timeseries.cnn import Net1DLightningModule\n",
    "\n",
    "import warnings\n",
    "warnings.filterwarnings(action='ignore')"
   ]
  },
  {
   "cell_type": "code",
   "execution_count": 17,
   "metadata": {},
   "outputs": [],
   "source": [
    "class args:\n",
    "    data_path='/home/huypham/Projects/ecg/dataset/cinc2020/raw/'\n",
    "    csv_path='/home/huypham/Projects/ecg/dataset/cinc2020/processed'\n",
    "    batch_size=1\n",
    "    learning_rate=1e-5\n",
    "    max_epochs=100\n",
    "    log_dir='/tmp/logs/cnn1d'\n",
    "    resume_from_checkpoint=None\n",
    "    seed=42"
   ]
  },
  {
   "cell_type": "code",
   "execution_count": 18,
   "metadata": {},
   "outputs": [],
   "source": [
    "def set_seed(seed=0):\n",
    "    import numpy, torch, random\n",
    "    numpy.random.seed(seed)\n",
    "    torch.random.manual_seed(seed)\n",
    "    random.seed(seed)"
   ]
  },
  {
   "cell_type": "code",
   "execution_count": 20,
   "metadata": {},
   "outputs": [
    {
     "name": "stderr",
     "output_type": "stream",
     "text": [
      "Global seed set to 42\n",
      "Global seed set to 42\n"
     ]
    },
    {
     "data": {
      "application/json": {
       "ascii": false,
       "bar_format": null,
       "colour": null,
       "elapsed": 0.003781557083129883,
       "initial": 0,
       "n": 0,
       "ncols": null,
       "nrows": 37,
       "postfix": null,
       "prefix": "",
       "rate": null,
       "total": 8621,
       "unit": "it",
       "unit_divisor": 1000,
       "unit_scale": false
      },
      "application/vnd.jupyter.widget-view+json": {
       "model_id": "d562e1ce78064bb6bb17120bff6d977f",
       "version_major": 2,
       "version_minor": 0
      },
      "text/plain": [
       "  0%|          | 0/8621 [00:00<?, ?it/s]"
      ]
     },
     "metadata": {},
     "output_type": "display_data"
    }
   ],
   "source": [
    "start = time.time()\n",
    "\n",
    "set_seed(args.seed)\n",
    "train_dir = args.data_path\n",
    "val_dir = train_dir\n",
    "test_dir = train_dir\n",
    "\n",
    "train_label = os.path.join(args.csv_path, 'y_train.csv') # '/home/huypham/Projects/ecg/dataset/cinc2020/processed/y_train.csv'\n",
    "val_label = os.path.join(args.csv_path, 'y_val.csv')\n",
    "test_label = os.path.join(args.csv_path, 'y_test.csv')\n",
    "\n",
    "data_module = TimeSeriesDataModule(\n",
    "    train_dir=None, #train_dir,\n",
    "    train_label=None, #train_label,\n",
    "    val_dir=None, #val_dir,\n",
    "    val_label=None, #val_label,\n",
    "    test_dir=test_dir,\n",
    "    test_label=test_label,\n",
    "    batch_size=args.batch_size\n",
    ")\n",
    "\n",
    "# train_dataloader = data_module.train_dataloader()\n",
    "# classes = data_module.train_dataset.classes\n",
    "# class_weights = data_module.train_dataset.class_weights\n",
    "\n",
    "# val_dataloader = data_module.val_dataloader()\n",
    "test_dataloader = data_module.test_dataloader()\n",
    "classes = data_module.test_dataset.classes\n",
    "class_weights = data_module.test_dataset.class_weights\n",
    "\n",
    "\n",
    "stop = time.time()"
   ]
  },
  {
   "cell_type": "code",
   "execution_count": 21,
   "metadata": {},
   "outputs": [
    {
     "name": "stdout",
     "output_type": "stream",
     "text": [
      "Per image: 0.14429691127966926\n"
     ]
    }
   ],
   "source": [
    "# print('Processing time:', stop - start)\n",
    "ts_processing_time = (stop-start)/(len(data_module.test_dataset))\n",
    "print('Per image:', ts_processing_time)"
   ]
  },
  {
   "cell_type": "code",
   "execution_count": 22,
   "metadata": {},
   "outputs": [
    {
     "name": "stderr",
     "output_type": "stream",
     "text": [
      "GPU available: False, used: False\n",
      "TPU available: False, using: 0 TPU cores\n",
      "IPU available: False, using: 0 IPUs\n",
      "HPU available: False, using: 0 HPUs\n",
      "Restoring states from the checkpoint path at /home/huypham/Projects/ecg/logs_with_eco2ai/logs_cinc2020/cnn1d/lightning_logs/version_0/ckpt/best-epoch=98-val_loss=0.01-val_f1=0.69.ckpt\n",
      "Loaded model weights from checkpoint at /home/huypham/Projects/ecg/logs_with_eco2ai/logs_cinc2020/cnn1d/lightning_logs/version_0/ckpt/best-epoch=98-val_loss=0.01-val_f1=0.69.ckpt\n"
     ]
    },
    {
     "data": {
      "application/json": {
       "ascii": false,
       "bar_format": null,
       "colour": null,
       "elapsed": 0.004760265350341797,
       "initial": 0,
       "n": 0,
       "ncols": 139,
       "nrows": 37,
       "postfix": null,
       "prefix": "Testing",
       "rate": null,
       "total": null,
       "unit": "it",
       "unit_divisor": 1000,
       "unit_scale": false
      },
      "application/vnd.jupyter.widget-view+json": {
       "model_id": "594b239773144914877b883e58fdc0e4",
       "version_major": 2,
       "version_minor": 0
      },
      "text/plain": [
       "Testing: 0it [00:00, ?it/s]"
      ]
     },
     "metadata": {},
     "output_type": "display_data"
    },
    {
     "name": "stdout",
     "output_type": "stream",
     "text": [
      "────────────────────────────────────────────────────────────────────────────────────────────────────────────────────────\n",
      "       Test metric             DataLoader 0\n",
      "────────────────────────────────────────────────────────────────────────────────────────────────────────────────────────\n",
      "         test_f1            0.6897772550582886\n",
      "        test_loss          0.014760381542146206\n",
      "────────────────────────────────────────────────────────────────────────────────────────────────────────────────────────\n"
     ]
    }
   ],
   "source": [
    "start = time.time()\n",
    "\n",
    "model = Net1DLightningModule(classes=classes, class_weights=class_weights)\n",
    "\n",
    "trainer = pl.Trainer(\n",
    "    accelerator='cpu'\n",
    ")\n",
    "\n",
    "trainer.test(model, dataloaders=test_dataloader, ckpt_path='/home/huypham/Projects/ecg/logs_with_eco2ai/logs_cinc2020/cnn1d/lightning_logs/version_0/ckpt/best-epoch=98-val_loss=0.01-val_f1=0.69.ckpt')\n",
    "\n",
    "stop = time.time()"
   ]
  },
  {
   "cell_type": "code",
   "execution_count": 23,
   "metadata": {},
   "outputs": [
    {
     "name": "stdout",
     "output_type": "stream",
     "text": [
      "Per image: 0.02979877340504609\n"
     ]
    }
   ],
   "source": [
    "# print('Prediction time:',)\n",
    "cnn1d = (stop-start) / (len(data_module.test_dataset))\n",
    "print('Per image:', cnn1d)"
   ]
  },
  {
   "attachments": {},
   "cell_type": "markdown",
   "metadata": {},
   "source": [
    "# 1D ResNet"
   ]
  },
  {
   "cell_type": "code",
   "execution_count": 24,
   "metadata": {},
   "outputs": [],
   "source": [
    "class args:\n",
    "    data_path='/home/huypham/Projects/ecg/dataset/cinc2020/raw'\n",
    "    csv_path='/home/huypham/Projects/ecg/dataset/cinc2020/processed'\n",
    "    batch_size=32\n",
    "    learning_rate=1e-4\n",
    "    max_epochs=500\n",
    "    log_dir='/tmp/logs/resnet1d'\n",
    "    resume_from_checkpoint=None\n",
    "    seed=42"
   ]
  },
  {
   "cell_type": "code",
   "execution_count": 25,
   "metadata": {},
   "outputs": [
    {
     "name": "stderr",
     "output_type": "stream",
     "text": [
      "Global seed set to 42\n",
      "GPU available: False, used: False\n",
      "TPU available: False, using: 0 TPU cores\n",
      "IPU available: False, using: 0 IPUs\n",
      "HPU available: False, using: 0 HPUs\n",
      "Restoring states from the checkpoint path at /home/huypham/Projects/ecg/logs_with_eco2ai/logs_cinc2020/resnet1d/lightning_logs/version_0/ckpt/best-epoch=99-val_loss=0.01-val_f1=0.71.ckpt\n",
      "Loaded model weights from checkpoint at /home/huypham/Projects/ecg/logs_with_eco2ai/logs_cinc2020/resnet1d/lightning_logs/version_0/ckpt/best-epoch=99-val_loss=0.01-val_f1=0.71.ckpt\n"
     ]
    },
    {
     "data": {
      "application/json": {
       "ascii": false,
       "bar_format": null,
       "colour": null,
       "elapsed": 0.005305767059326172,
       "initial": 0,
       "n": 0,
       "ncols": 139,
       "nrows": 37,
       "postfix": null,
       "prefix": "Testing",
       "rate": null,
       "total": null,
       "unit": "it",
       "unit_divisor": 1000,
       "unit_scale": false
      },
      "application/vnd.jupyter.widget-view+json": {
       "model_id": "730c3cde773e426cbd155bbb6f28d4a4",
       "version_major": 2,
       "version_minor": 0
      },
      "text/plain": [
       "Testing: 0it [00:00, ?it/s]"
      ]
     },
     "metadata": {},
     "output_type": "display_data"
    },
    {
     "name": "stdout",
     "output_type": "stream",
     "text": [
      "────────────────────────────────────────────────────────────────────────────────────────────────────────────────────────\n",
      "       Test metric             DataLoader 0\n",
      "────────────────────────────────────────────────────────────────────────────────────────────────────────────────────────\n",
      "         test_f1             0.712304413318634\n",
      "        test_loss          0.013201124966144562\n",
      "────────────────────────────────────────────────────────────────────────────────────────────────────────────────────────\n"
     ]
    }
   ],
   "source": [
    "from models.timeseries.resnet1d import ResNet1DLightningModule\n",
    "\n",
    "start = time.time()\n",
    "\n",
    "model = ResNet1DLightningModule(\n",
    "    classes=classes,\n",
    "    class_weights=class_weights,\n",
    "    learning_rate=args.learning_rate,\n",
    ")\n",
    "\n",
    "trainer = pl.Trainer(\n",
    "    accelerator='cpu'\n",
    ")\n",
    "\n",
    "trainer.test(model, dataloaders=test_dataloader, ckpt_path='/home/huypham/Projects/ecg/logs_with_eco2ai/logs_cinc2020/resnet1d/lightning_logs/version_0/ckpt/best-epoch=99-val_loss=0.01-val_f1=0.71.ckpt')\n",
    "\n",
    "stop = time.time()"
   ]
  },
  {
   "cell_type": "code",
   "execution_count": 26,
   "metadata": {},
   "outputs": [
    {
     "name": "stdout",
     "output_type": "stream",
     "text": [
      "Per image: 0.0215992074100701\n"
     ]
    }
   ],
   "source": [
    "# print('Prediction time:', stop - start )\n",
    "resnet1d = (stop-start) / (len(data_module.test_dataset))\n",
    "print('Per image:', resnet1d)"
   ]
  },
  {
   "attachments": {},
   "cell_type": "markdown",
   "metadata": {},
   "source": [
    "# XGBoost"
   ]
  },
  {
   "cell_type": "code",
   "execution_count": 27,
   "metadata": {},
   "outputs": [],
   "source": [
    "import pandas as pd\n",
    "\n",
    "from preprocess.cinc2017 import process_cinc2017_timeseries\n",
    "from preprocess.utils import *"
   ]
  },
  {
   "cell_type": "code",
   "execution_count": 28,
   "metadata": {},
   "outputs": [
    {
     "name": "stdout",
     "output_type": "stream",
     "text": [
      "[22:11:56] WARNING: ../src/gbm/gbtree.cc:405: Loading from a raw memory buffer on CPU only machine.  Changing tree_method to hist.\n",
      "[22:11:56] WARNING: ../src/learner.cc:339: No visible GPU is found, setting `gpu_id` to -1\n"
     ]
    }
   ],
   "source": [
    "import joblib\n",
    "search = joblib.load('/home/huypham/Projects/ecg/logs_with_eco2ai/logs_cinc2020/tabular/search.pkl')"
   ]
  },
  {
   "cell_type": "code",
   "execution_count": 29,
   "metadata": {},
   "outputs": [],
   "source": [
    "class args:\n",
    "    data_path='/home/huypham/Projects/ecg/dataset/cinc2020/raw/'\n",
    "    output_dir='/tmp/cinc2020/processed'\n",
    "    sampling_rate=300"
   ]
  },
  {
   "cell_type": "code",
   "execution_count": 30,
   "metadata": {},
   "outputs": [],
   "source": [
    "os.makedirs(args.output_dir, exist_ok=True)"
   ]
  },
  {
   "cell_type": "code",
   "execution_count": 31,
   "metadata": {},
   "outputs": [],
   "source": [
    "train_df = pd.read_csv('/home/huypham/Projects/ecg/dataset/cinc2020/processed/y_train.csv')\n",
    "val_df = pd.read_csv('/home/huypham/Projects/ecg/dataset/cinc2020/processed/y_val.csv')\n",
    "test_df = pd.read_csv('/home/huypham/Projects/ecg/dataset/cinc2020/processed/y_test.csv')\n",
    "\n",
    "train_files = [os.path.join(args.data_path, i) for i in train_df['idx'].to_list()]\n",
    "val_files = [os.path.join(args.data_path, i) for i in val_df['idx'].to_list()]\n",
    "test_files = [os.path.join(args.data_path, i) for i in test_df['idx'].to_list()]\n",
    "\n",
    "X_test = pd.read_csv('/home/huypham/Projects/ecg/dataset/cinc2020/processed/test_features.csv')\n",
    "y_test = test_df.drop(columns=['idx']).to_numpy()\n",
    "\n",
    "# train_features = extract_ts_features(train_files, verbose=True)\n",
    "# train_features.to_csv(os.path.join(args.output_dir, 'train_features.csv'), index=False)\n",
    "\n",
    "# val_features = extract_ts_features(val_files, verbose=True)\n",
    "# val_features.to_csv(os.path.join(args.output_dir, 'val_features.csv'), index=False)"
   ]
  },
  {
   "cell_type": "code",
   "execution_count": 32,
   "metadata": {},
   "outputs": [],
   "source": [
    "mask = search.best_estimator_[0][3].get_support()\n",
    "selected_columns = [c for m, c in zip(mask, X_test.columns) if m]\n",
    "\n",
    "tsfresh_settings = {}\n",
    "for col in selected_columns:\n",
    "    parts = col.split('__')\n",
    "    # print(parts)\n",
    "    # if len(parts) == 2:\n",
    "    #     tsfresh_settings[parts[1]] = None\n",
    "    # elif len(parts) == 3:\n",
    "    #     name = parts[1]\n",
    "    #     k, v = parts[2].rsplit('_', 1)\n",
    "\n",
    "    #     try:\n",
    "    #         v_ = int(v)\n",
    "    #     except:\n",
    "    #         v_ = v\n",
    "\n",
    "    #     if name in tsfresh_settings:\n",
    "    #         tsfresh_settings[name].append({k: v_})\n",
    "    #     else:\n",
    "    #         tsfresh_settings[name] = [{k: v_}]\n",
    "    tsfresh_settings[parts[1]] = EfficientFCParameters()[parts[1]]"
   ]
  },
  {
   "cell_type": "code",
   "execution_count": 33,
   "metadata": {},
   "outputs": [
    {
     "data": {
      "application/json": {
       "ascii": false,
       "bar_format": null,
       "colour": null,
       "elapsed": 0.0033342838287353516,
       "initial": 0,
       "n": 0,
       "ncols": null,
       "nrows": 37,
       "postfix": null,
       "prefix": "",
       "rate": null,
       "total": 8621,
       "unit": "it",
       "unit_divisor": 1000,
       "unit_scale": false
      },
      "application/vnd.jupyter.widget-view+json": {
       "model_id": "91d76eed8fd647378ed4d96b782b431e",
       "version_major": 2,
       "version_minor": 0
      },
      "text/plain": [
       "  0%|          | 0/8621 [00:00<?, ?it/s]"
      ]
     },
     "metadata": {},
     "output_type": "display_data"
    }
   ],
   "source": [
    "start = time.time()\n",
    "\n",
    "test_features = extract_ts_features(test_files, settings=tsfresh_settings, verbose=True)\n",
    "test_features.to_csv(os.path.join(args.output_dir, 'test_features.csv'), index=False)\n",
    "\n",
    "stop = time.time()"
   ]
  },
  {
   "cell_type": "code",
   "execution_count": null,
   "metadata": {},
   "outputs": [],
   "source": [
    "start = time.time()\n",
    "\n",
    "test_features = extract_ts_features(test_files, settings=tsfresh_settings, verbose=True)\n",
    "test_features.to_csv(os.path.join(args.output_dir, 'test_features.csv'), index=False)\n",
    "\n",
    "stop = time.time()"
   ]
  },
  {
   "cell_type": "code",
   "execution_count": 34,
   "metadata": {},
   "outputs": [
    {
     "name": "stdout",
     "output_type": "stream",
     "text": [
      "Per image: 0.3826583266161445\n"
     ]
    }
   ],
   "source": [
    "# print('Processing time:', stop - start )\n",
    "tabular_processing_time = (stop-start) / (8621)\n",
    "print('Per image:',  tabular_processing_time)"
   ]
  },
  {
   "cell_type": "code",
   "execution_count": 35,
   "metadata": {},
   "outputs": [],
   "source": [
    "search.best_estimator_[-1].gpu_id=-1"
   ]
  },
  {
   "cell_type": "code",
   "execution_count": 50,
   "metadata": {},
   "outputs": [],
   "source": [
    "X_test = pd.read_csv(os.path.join('/home/huypham/Projects/ecg/dataset/cinc2020/processed', 'test_features.csv'))\n",
    "colnames = [i for i in X_test.columns if i.startswith('x__')]\n",
    "X_test = X_test[colnames]"
   ]
  },
  {
   "cell_type": "code",
   "execution_count": 53,
   "metadata": {},
   "outputs": [],
   "source": [
    "start = time.time()\n",
    "\n",
    "y_pred = search.predict(X_test)\n",
    "\n",
    "stop = time.time()"
   ]
  },
  {
   "cell_type": "code",
   "execution_count": 54,
   "metadata": {},
   "outputs": [
    {
     "name": "stdout",
     "output_type": "stream",
     "text": [
      "Per image: 3.762762890297912e-05\n"
     ]
    }
   ],
   "source": [
    "# print('Processing time:', stop - start )\n",
    "xgb = (stop-start) / (8621)\n",
    "print('Per image:',  xgb)"
   ]
  },
  {
   "attachments": {},
   "cell_type": "markdown",
   "metadata": {},
   "source": [
    "# Summary"
   ]
  },
  {
   "cell_type": "code",
   "execution_count": 55,
   "metadata": {},
   "outputs": [],
   "source": [
    "import seaborn as sns"
   ]
  },
  {
   "cell_type": "code",
   "execution_count": 63,
   "metadata": {},
   "outputs": [],
   "source": [
    "report = [\n",
    "    dict(model='ResNet50', processing=poincare_process_time, prediction=resnet50),\n",
    "    dict(model='DenseNet121', processing=poincare_process_time, prediction=densenet121),\n",
    "    dict(model='1D CNN', processing=ts_processing_time, prediction=cnn1d),\n",
    "    dict(model='1D ResNet', processing=ts_processing_time, prediction=resnet1d),\n",
    "    dict(model='XGBoost', processing=tabular_processing_time, prediction=xgb),\n",
    "]"
   ]
  },
  {
   "cell_type": "code",
   "execution_count": 64,
   "metadata": {},
   "outputs": [
    {
     "name": "stdout",
     "output_type": "stream",
     "text": [
      "[{'model': 'ResNet50', 'processing': 0.22723213886899912, 'prediction': 0.035986953151708634}, {'model': 'DenseNet121', 'processing': 0.22723213886899912, 'prediction': 0.03631659785302661}, {'model': '1D CNN', 'processing': 0.14429691127966926, 'prediction': 0.02979877340504609}, {'model': '1D ResNet', 'processing': 0.14429691127966926, 'prediction': 0.0215992074100701}, {'model': 'XGBoost', 'processing': 0.3826583266161445, 'prediction': 3.762762890297912e-05}]\n"
     ]
    }
   ],
   "source": [
    "print(report)\n",
    "# \"\"\"[{'model': 'ResNet50', 'processing': 0.033698169559967225, 'prediction': 0.037894168604440455}, {'model': 'DenseNet121', 'processing': 0.033698169559967225, 'prediction': 0.03815144628880312}, {'model': '1D CNN', 'processing': 0.013436714379469852, 'prediction': 0.027547516968158037}, {'model': '1D ResNet', 'processing': 0.013436714379469852, 'prediction': 0.01880842635947403}, {'model': 'XGBoost', 'processing': 1.7176005028336716, 'prediction': 0.00022670560257655656}]\"\"\""
   ]
  },
  {
   "cell_type": "code",
   "execution_count": 65,
   "metadata": {},
   "outputs": [],
   "source": [
    "report = [{'model': 'ResNet50', 'processing': 0.22723213886899912, 'prediction': 0.035986953151708634}, {'model': 'DenseNet121', 'processing': 0.22723213886899912, 'prediction': 0.03631659785302661}, {'model': '1D CNN', 'processing': 0.14429691127966926, 'prediction': 0.02979877340504609}, {'model': '1D ResNet', 'processing': 0.14429691127966926, 'prediction': 0.0215992074100701}, {'model': 'XGBoost', 'processing': 0.3826583266161445, 'prediction': 3.762762890297912e-05}]"
   ]
  },
  {
   "cell_type": "code",
   "execution_count": 66,
   "metadata": {},
   "outputs": [],
   "source": [
    "df = pd.DataFrame(report)\n",
    "df[df.select_dtypes(include=['number']).columns] *= 1000\n",
    "df = df.set_index('model')\n",
    "# df.to_csv('./timing.csv', index=False)"
   ]
  },
  {
   "cell_type": "code",
   "execution_count": 67,
   "metadata": {},
   "outputs": [
    {
     "name": "stdout",
     "output_type": "stream",
     "text": [
      "| model       |   processing |   prediction |   total |\n",
      "|:------------|-------------:|-------------:|--------:|\n",
      "| ResNet50    |        227.2 |         36   |   263.2 |\n",
      "| DenseNet121 |        227.2 |         36.3 |   263.5 |\n",
      "| 1D CNN      |        144.3 |         29.8 |   174.1 |\n",
      "| 1D ResNet   |        144.3 |         21.6 |   165.9 |\n",
      "| XGBoost     |        382.7 |          0   |   382.7 |\n"
     ]
    }
   ],
   "source": [
    "df['total'] = df['processing'] + df['prediction']\n",
    "\n",
    "print(df.round(1).to_markdown())"
   ]
  },
  {
   "cell_type": "code",
   "execution_count": 77,
   "metadata": {},
   "outputs": [
    {
     "data": {
      "text/html": [
       "<div>\n",
       "<style scoped>\n",
       "    .dataframe tbody tr th:only-of-type {\n",
       "        vertical-align: middle;\n",
       "    }\n",
       "\n",
       "    .dataframe tbody tr th {\n",
       "        vertical-align: top;\n",
       "    }\n",
       "\n",
       "    .dataframe thead th {\n",
       "        text-align: right;\n",
       "    }\n",
       "</style>\n",
       "<table border=\"1\" class=\"dataframe\">\n",
       "  <thead>\n",
       "    <tr style=\"text-align: right;\">\n",
       "      <th></th>\n",
       "      <th>processing</th>\n",
       "      <th>prediction</th>\n",
       "      <th>total</th>\n",
       "    </tr>\n",
       "    <tr>\n",
       "      <th>model</th>\n",
       "      <th></th>\n",
       "      <th></th>\n",
       "      <th></th>\n",
       "    </tr>\n",
       "  </thead>\n",
       "  <tbody>\n",
       "    <tr>\n",
       "      <th>ResNet50</th>\n",
       "      <td>227.232139</td>\n",
       "      <td>35.986953</td>\n",
       "      <td>263.219092</td>\n",
       "    </tr>\n",
       "    <tr>\n",
       "      <th>DenseNet121</th>\n",
       "      <td>227.232139</td>\n",
       "      <td>36.316598</td>\n",
       "      <td>263.548737</td>\n",
       "    </tr>\n",
       "    <tr>\n",
       "      <th>1D CNN</th>\n",
       "      <td>144.296911</td>\n",
       "      <td>29.798773</td>\n",
       "      <td>174.095685</td>\n",
       "    </tr>\n",
       "    <tr>\n",
       "      <th>1D ResNet</th>\n",
       "      <td>144.296911</td>\n",
       "      <td>21.599207</td>\n",
       "      <td>165.896119</td>\n",
       "    </tr>\n",
       "    <tr>\n",
       "      <th>XGBoost</th>\n",
       "      <td>382.658327</td>\n",
       "      <td>0.037628</td>\n",
       "      <td>382.695954</td>\n",
       "    </tr>\n",
       "  </tbody>\n",
       "</table>\n",
       "</div>"
      ],
      "text/plain": [
       "             processing  prediction       total\n",
       "model                                          \n",
       "ResNet50     227.232139   35.986953  263.219092\n",
       "DenseNet121  227.232139   36.316598  263.548737\n",
       "1D CNN       144.296911   29.798773  174.095685\n",
       "1D ResNet    144.296911   21.599207  165.896119\n",
       "XGBoost      382.658327    0.037628  382.695954"
      ]
     },
     "execution_count": 77,
     "metadata": {},
     "output_type": "execute_result"
    }
   ],
   "source": [
    "df"
   ]
  },
  {
   "cell_type": "code",
   "execution_count": 76,
   "metadata": {},
   "outputs": [],
   "source": [
    "fig, (ax1,ax2) = plt.subplots(2, 1, sharex=True, figsize=(6, 4))\n",
    "ax1.spines['bottom'].set_visible(False)\n",
    "ax1.tick_params(axis='x',which='both',bottom=False)\n",
    "ax2.spines['top'].set_visible(False)\n",
    "# ax2.set_ylim(0,100)\n",
    "# ax1.set_ylim(1620,1720)\n",
    "# ax2.set_yticks(np.arange(0, 101, 50))\n",
    "# ax1.set_yticks(np.arange(1650, 1751, 50))\n",
    "df.drop(columns=['total']).plot(ax=ax1, kind='bar', stacked=True)\n",
    "df.drop(columns=['total']).plot(ax=ax2, kind='bar', stacked=True)\n",
    "for tick in ax2.get_xticklabels():\n",
    "    tick.set_rotation(0)\n",
    "\n",
    "# d = .01\n",
    "# kwargs = dict(transform=ax1.transAxes, color='k', clip_on=False)\n",
    "# ax1.plot((-d, +d), (-d, +d), **kwargs)      \n",
    "# ax1.plot((1 - d, 1 + d), (-d, +d), **kwargs)\n",
    "\n",
    "# kwargs.update(transform=ax2.transAxes)  \n",
    "# ax2.plot((-d, +d), (1 - d, 1 + d), **kwargs)  \n",
    "# ax2.plot((1 - d, 1 + d), (1 - d, 1 + d), **kwargs)\n",
    "\n",
    "ax1.get_legend().remove()\n",
    "ax2.legend(\n",
    "    loc='lower center', ncols=2, bbox_to_anchor=(0.5, -0.5, 0, 0)\n",
    ")\n",
    "ax2.get_legend().get_texts()[0].set_text('Processing Time')\n",
    "ax2.get_legend().get_texts()[1].set_text('Prediction Time')\n",
    "# ax2.get_legend().remove()\n",
    "\n",
    "\n",
    "plt.xlabel('')\n",
    "ax2.set_ylabel('Time (ms)', y=1)\n",
    "plt.savefig('inference_time_2020.pdf', bbox_inches='tight', dpi=100)\n",
    "# plt.show()"
   ]
  },
  {
   "cell_type": "code",
   "execution_count": null,
   "metadata": {},
   "outputs": [],
   "source": [
    "# sns.barplot(data=df, x='model', y='total')\n",
    "# plt.yscale('log')\n",
    "# df.drop(columns=['total']).plot(kind='bar', stacked=True)\n",
    "# plt.yscale('log')"
   ]
  },
  {
   "cell_type": "code",
   "execution_count": null,
   "metadata": {},
   "outputs": [],
   "source": []
  },
  {
   "cell_type": "code",
   "execution_count": null,
   "metadata": {},
   "outputs": [],
   "source": []
  }
 ],
 "metadata": {
  "kernelspec": {
   "display_name": "ecg",
   "language": "python",
   "name": "ecg"
  },
  "language_info": {
   "codemirror_mode": {
    "name": "ipython",
    "version": 3
   },
   "file_extension": ".py",
   "mimetype": "text/x-python",
   "name": "python",
   "nbconvert_exporter": "python",
   "pygments_lexer": "ipython3",
   "version": "3.10.8"
  },
  "vscode": {
   "interpreter": {
    "hash": "6b7ffe4ee93e8953dab2367d42bda680b8cdba40f757ded9002091e8addd73ae"
   }
  }
 },
 "nbformat": 4,
 "nbformat_minor": 4
}
