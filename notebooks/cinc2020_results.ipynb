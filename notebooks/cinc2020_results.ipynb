{
 "cells": [
  {
   "cell_type": "code",
   "execution_count": 1,
   "metadata": {},
   "outputs": [],
   "source": [
    "import numpy as np\n",
    "import pandas as pd\n",
    "from sklearn import metrics"
   ]
  },
  {
   "cell_type": "code",
   "execution_count": 2,
   "metadata": {},
   "outputs": [],
   "source": [
    "test = pd.read_csv('/home/huypham/Projects/ecg/dataset/cinc2020/processed/y_test.csv')"
   ]
  },
  {
   "cell_type": "code",
   "execution_count": 3,
   "metadata": {},
   "outputs": [],
   "source": [
    "densenet121 = np.load('/home/huypham/Projects/ecg/tmp/logs_20230120/logs_cinc2020/poincare/densenet121/lightning_logs/version_0/test.npz')['arr_0']\n",
    "resnet50 = np.load('/home/huypham/Projects/ecg/tmp/logs_20230120/logs_cinc2020/poincare/resnet50/lightning_logs/version_0/test.npz')['arr_0']\n",
    "cnn1d = np.load('/home/huypham/Projects/ecg/tmp/logs_20230120/logs_cinc2020/cnn1d/lightning_logs/version_0/test.npz')['arr_0']\n",
    "resnet1d = np.load('/home/huypham/Projects/ecg/tmp/logs_20230120/logs_cinc2020/resnet1d/lightning_logs/version_0/test.npz')['arr_0']\n",
    "xgb = np.load('/home/huypham/Projects/ecg/tmp/logs_20230120/logs_cinc2020/tabular/test_prob.npz')['arr_0']"
   ]
  },
  {
   "cell_type": "code",
   "execution_count": 4,
   "metadata": {},
   "outputs": [],
   "source": [
    "model_names = ['ResNet50', 'DenseNet121', '1D CNN', '1D ResNet', 'XGBoost']\n",
    "model_preds = [resnet50, densenet121, cnn1d, resnet1d, xgb]"
   ]
  },
  {
   "cell_type": "code",
   "execution_count": 5,
   "metadata": {},
   "outputs": [],
   "source": [
    "idx = test.idx.to_list()\n",
    "sources = np.array([i.split('/')[1] for i in idx])\n",
    "y_true = test.drop(columns=['idx']).to_numpy()"
   ]
  },
  {
   "cell_type": "code",
   "execution_count": 6,
   "metadata": {},
   "outputs": [],
   "source": [
    "for src in set(sources):\n",
    "    y_true_src = y_true[sources == src]\n",
    "    \n",
    "    densenet121_src= densenet121[sources == src]\n",
    "    resnet50_src = resnet50[sources == src]\n",
    "    cnn1d_src = cnn1d[sources == src]\n",
    "    resnet1d_src = resnet1d[sources == src]\n",
    "    xgb_src = xgb[sources == src]\n",
    "\n",
    "    "
   ]
  },
  {
   "cell_type": "code",
   "execution_count": 7,
   "metadata": {},
   "outputs": [
    {
     "data": {
      "text/plain": [
       "0.7652173913043478"
      ]
     },
     "execution_count": 7,
     "metadata": {},
     "output_type": "execute_result"
    }
   ],
   "source": [
    "metrics.f1_score(y_pred=densenet121_src>0.5, y_true=y_true_src, average='micro')"
   ]
  },
  {
   "cell_type": "code",
   "execution_count": 8,
   "metadata": {},
   "outputs": [
    {
     "data": {
      "text/plain": [
       "'ptb'"
      ]
     },
     "execution_count": 8,
     "metadata": {},
     "output_type": "execute_result"
    }
   ],
   "source": [
    "src"
   ]
  },
  {
   "cell_type": "code",
   "execution_count": null,
   "metadata": {},
   "outputs": [],
   "source": []
  }
 ],
 "metadata": {
  "kernelspec": {
   "display_name": "ecg",
   "language": "python",
   "name": "ecg"
  },
  "language_info": {
   "codemirror_mode": {
    "name": "ipython",
    "version": 3
   },
   "file_extension": ".py",
   "mimetype": "text/x-python",
   "name": "python",
   "nbconvert_exporter": "python",
   "pygments_lexer": "ipython3",
   "version": "3.10.8"
  },
  "vscode": {
   "interpreter": {
    "hash": "6b7ffe4ee93e8953dab2367d42bda680b8cdba40f757ded9002091e8addd73ae"
   }
  }
 },
 "nbformat": 4,
 "nbformat_minor": 4
}
